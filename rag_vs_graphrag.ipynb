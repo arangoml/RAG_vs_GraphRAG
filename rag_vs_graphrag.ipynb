{
 "cells": [
  {
   "cell_type": "markdown",
   "id": "272c404e-3f46-43ea-aed6-1585ff2bb0ff",
   "metadata": {},
   "source": [
    "# LLM RAG vs GraphRAG \n",
    "\n",
    "<img src=\"resources/images/rvg1.png\" style=\"width:1200px; height:auto;\">\n",
    "\n",
    "\n",
    "**Leveraging knowledge graphs with large language models is essential for reducing hallucinations and providing data-centric results.**\n",
    "\n",
    "\n",
    "This notebook explains the differences between RAG and GraphRAG by example. By the end, you will understand how GraphRAG can improve your question-and-answer results, save substantial costs, and provide explainability all without needing to make changes to an existing knowledge graph.\n"
   ]
  },
  {
   "cell_type": "code",
   "execution_count": 225,
   "id": "5b68dfb5-b995-43d4-949a-db90f4554cd8",
   "metadata": {
    "jupyter": {
     "source_hidden": true
    },
    "scrolled": true
   },
   "outputs": [],
   "source": [
    "\n",
    "%%capture\n",
    "%pip install llama-index-llms-openai\n",
    "%pip install llama-index-embeddings-openai\n",
    "%pip install pyvis\n",
    "%pip install llama-index-readers-arango-db==0.1.3\n",
    "\n",
    "import os\n",
    "import logging\n",
    "import sys\n",
    "import datetime\n",
    "from IPython.display import Markdown, display\n",
    "\n",
    "from llama_index.core import (Settings,\n",
    "                            StorageContext, \n",
    "                            SimpleDirectoryReader, \n",
    "                            KnowledgeGraphIndex)\n",
    "from llama_index.core.graph_stores import SimpleGraphStore\n",
    "from llama_index.llms.openai import OpenAI\n",
    "from langchain_community.callbacks import get_openai_callback\n",
    "\n",
    "\n",
    "logging.basicConfig(stream=sys.stdout, level=logging.INFO)"
   ]
  },
  {
   "cell_type": "code",
   "execution_count": 226,
   "id": "6f5aa8bf-a0db-4285-9d63-7972cff02af3",
   "metadata": {},
   "outputs": [],
   "source": [
    "\n",
    "os.environ[\"OPENAI_API_KEY\"] = \"sk-\""
   ]
  },
  {
   "cell_type": "markdown",
   "id": "69c05adc-91f5-463c-92e4-95464254c7c7",
   "metadata": {},
   "source": [
    "## RAG\n",
    "RAG builds upon powerful language models by providing fact-based answers derived from user files. The early approaches for RAG take user data, often in the form of flat files, and parses that data to generate embeddings which are made available via an in-memory vector based index.\n",
    "\n",
    "This approach is superior to off-the-shelf models but has many limitations regarding reliability and accuracy.\n",
    "Limitations:\n",
    "* Costly embedding generation process\n",
    "* Time Consuming\n",
    "* Inconsistent results based on KG creation approach\n",
    "* The resulting index is an additional data source that needs to remain consistent with source data changes"
   ]
  },
  {
   "cell_type": "code",
   "execution_count": 227,
   "id": "0bac5081-ad1b-43a9-8d8e-bc37ef3eaaf8",
   "metadata": {
    "editable": true,
    "jupyter": {
     "source_hidden": true
    },
    "slideshow": {
     "slide_type": ""
    },
    "tags": []
   },
   "outputs": [],
   "source": [
    "# ##\n",
    "# # Don't run if loading from persisted directory\n",
    "# ##\n",
    "# from llama_index.readers.arango_db import SimpleArangoDBReader\n",
    "# import tiktoken\n",
    "# from llama_index.core.callbacks import CallbackManager, TokenCountingHandler\n",
    "\n",
    "# # Read single documentation collection from ArangoDB\n",
    "# reader = SimpleArangoDBReader(\"https://fdf2638171c0.arangodb.cloud:8529\")\n",
    "# documents = reader.load_data(\n",
    "#     \"root\",\n",
    "#     _password,\n",
    "#     \"open_intelligence\",\n",
    "#     collection_name=\"Event\",\n",
    "#     field_names=[\"description\", \"date\", \"label\", \"fatalities\"],\n",
    "#     separator=\", \",\n",
    "#     metadata_names=[\"_id\"]\n",
    "# )\n",
    "\n",
    "# # Begin parsing the collection into triplets, so that it can be used by OpenAI/ChatGPT\n",
    "# # Basic timestamp to monitor processing time\n",
    "# now = datetime.datetime.now()\n",
    "# print(now)\n",
    "\n",
    "# # Keep track of tokens for input/output\n",
    "# token_counter = TokenCountingHandler(\n",
    "#     tokenizer=tiktoken.encoding_for_model(\"gpt-3.5-turbo\").encode\n",
    "# )\n",
    "\n",
    "# token_counter.reset_counts()\n",
    "\n",
    "# # Assigns token counter to llama_index callback manager\n",
    "# Settings.callback_manager = CallbackManager([token_counter])\n",
    "\n",
    "# # Use a simple in-memory graph store to store the resulting vectors\n",
    "# graph_store = SimpleGraphStore()\n",
    "# storage_context = StorageContext.from_defaults(graph_store=graph_store)\n",
    "\n",
    "# # NOTE: It WILL take a while!\n",
    "# index = KnowledgeGraphIndex.from_documents(\n",
    "#     documents,\n",
    "#     max_triplets_per_chunk=5, # adjust max_triples_per_chunk based on your own knowledge\n",
    "#     storage_context=storage_context,\n",
    "# )\n",
    "\n",
    "# print(token_counter.total_llm_token_count)\n",
    "\n",
    "# finished = datetime.datetime.now()\n",
    "# print(finished - now)\n",
    "\n",
    "# # Persist the resulting graph store to disk\n",
    "# storage_context.persist(persist_dir=\"resources/gdelt_persist_dir\")"
   ]
  },
  {
   "cell_type": "markdown",
   "id": "dec0eeaf-4c6d-4da1-a277-ad3bb454e5da",
   "metadata": {},
   "source": [
    "## Note: Proccessing and Data Consistency\n",
    "\n",
    "We have already done the costly, time consuming part of generating triplets out of our documents and storing them in the graph store.\n",
    "We don't store the embeddings the LLM uses to generate these as that would only add more cost and complexity to this process.\n",
    "\n",
    "The following code block loads the persisted version of this graph store into memory, so we don't need to re-process everything."
   ]
  },
  {
   "cell_type": "code",
   "execution_count": 228,
   "id": "c6ae160b-8cbe-4442-ad46-8c2d6b552268",
   "metadata": {
    "jupyter": {
     "source_hidden": true
    }
   },
   "outputs": [
    {
     "name": "stdout",
     "output_type": "stream",
     "text": [
      "Note: Tokens here are 0 since we load from static pre-processed data. \n",
      " Pre-processing Token Cost: ~$50 for 60k documents \n",
      "\n"
     ]
    }
   ],
   "source": [
    "# This code block does the following:\n",
    "#  * Loads pre-generated index from disk\n",
    "#  * Configures LLM to use for prompting/responses\n",
    "#  * Defines token and cost tracking\n",
    "\n",
    "\n",
    "# Load graph store from persisted directory\n",
    "import tiktoken\n",
    "from decimal import *\n",
    "from llama_index.core.callbacks import CallbackManager, TokenCountingHandler\n",
    "from llama_index.core import StorageContext, load_index_from_storage\n",
    "\n",
    "graph_store = SimpleGraphStore().from_persist_dir(\"./resources/gdelt_persist_dir\")\n",
    "\n",
    "# Rebuild storage context\n",
    "storage_context = StorageContext.from_defaults(persist_dir=\"./resources/gdelt_persist_dir\", graph_store=graph_store)\n",
    "\n",
    "# load index\n",
    "index = load_index_from_storage(storage_context)\n",
    "\n",
    "# define LLM\n",
    "# NOTE: at the time of demo, text-davinci-002 did not have rate-limit errors\n",
    "\n",
    "llm = OpenAI(model='gpt-4', temperature=0)\n",
    "Settings.llm = llm\n",
    "Settings.chunk_size = 512\n",
    "\n",
    "model_name = \"gpt-4\"\n",
    "\n",
    "token_counter = TokenCountingHandler(\n",
    "    tokenizer=tiktoken.encoding_for_model(model_name).encode\n",
    ")\n",
    "\n",
    "# Assumes alternative is gpt-4, if using other model update cost per million\n",
    "cost_per_token = (0.50 / 1000000) if model_name == \"gpt-3.5-turbo\" else (30.00 / 1000000)\n",
    "\n",
    "callback_manager = CallbackManager([token_counter])\n",
    "Settings.callback_manager = callback_manager\n",
    "\n",
    "print(\n",
    "    \"Note: Tokens here are 0 since we load from static pre-processed data. \\n\",\n",
    "    \"Pre-processing Token Cost: ~$50 for 60k documents \\n\"\n",
    ")\n",
    "\n",
    "# reset counts\n",
    "token_counter.reset_counts()\n",
    "\n",
    "query_engine = index.as_query_engine()\n",
    "\n",
    "\n",
    "all_token_counter = 0\n",
    "\n",
    "def print_response_with_costs(response):\n",
    "    \n",
    "    display(Markdown(f\"<b>{response}</b>\"))\n",
    "    global all_token_counter\n",
    "    all_token_counter = all_token_counter + token_counter.total_llm_token_count\n",
    "    \n",
    "    print(\n",
    "    \"Query Embedding Tokens: \",\n",
    "    token_counter.total_embedding_token_count,\n",
    "    \"\\n\",\n",
    "    \"Query LLM Prompt Tokens: \",\n",
    "    token_counter.prompt_llm_token_count,\n",
    "    \"\\n\",\n",
    "    \"Query LLM Completion Tokens: \",\n",
    "    token_counter.completion_llm_token_count,\n",
    "    \"\\n\",\n",
    "    \"Query Total LLM Token Count: \",\n",
    "    token_counter.total_llm_token_count,\n",
    "    \"\\n\",\n",
    "    \"Query Token Cost: $\",\n",
    "    str(Decimal(token_counter.total_llm_token_count * cost_per_token))[:9],\n",
    "    \"\\n\",\n",
    "    \"Total Query Activity Token Cost: $\",\n",
    "    str(Decimal(all_token_counter * cost_per_token))[:9],\n",
    "    \"\\n\",\n",
    "    \"Total Activity Token Cost: $\",\n",
    "    str(Decimal(50 + all_token_counter * cost_per_token))[:9]\n",
    "    )\n",
    "    token_counter.reset_counts()\n"
   ]
  },
  {
   "cell_type": "markdown",
   "id": "8d27f9b1-ccdf-4c2c-aec7-6b6af1c55551",
   "metadata": {},
   "source": [
    "## Knowledge Graph Creation\n",
    "\n",
    "LLM's can be powerful for creating knowledge graphs from pre-existing data.\n",
    "\n",
    "However, there are a number of issues that come along with using an only in-memory and LLM-dependent pipeline for long term graph creation.\n",
    "* Variable cost assiociated with KG creation\n",
    "* Complex processing needed for customized persisted schema, reliant on LLM's understanding\n",
    "* If data comes from a database, you create a second data source that must be maintained\n",
    "\n",
    "\n",
    "To reduce cost and processing time we restrict the graph to the following:\n",
    "\n",
    "**Collection Name**: Event\n",
    "\n",
    "**Fields Included**: [\"description\", \"date\", \"label\", \"fatalities\"]\n",
    "\n",
    "### ArangoDB Graph Representation\n",
    "\n",
    "<img src=\"resources/images/open_intelligence_sample.png\" style=\"width:800px; height:auto;\">\n",
    "\n",
    "**Data Consistency**\n",
    "\n",
    "It is worthing point out that now there is essentially two data sources for the application data. There is an in-database version and a flat file/in-memory version. The complexity of maintaining and adding new data continues to grow from here."
   ]
  },
  {
   "cell_type": "code",
   "execution_count": 252,
   "id": "e32a39e0-bee5-490f-8e6b-e217bdc62156",
   "metadata": {
    "editable": true,
    "slideshow": {
     "slide_type": ""
    },
    "tags": []
   },
   "outputs": [
    {
     "data": {
      "text/markdown": [
       "### In-memory Knowledge Graph"
      ],
      "text/plain": [
       "<IPython.core.display.Markdown object>"
      ]
     },
     "metadata": {},
     "output_type": "display_data"
    },
    {
     "name": "stdout",
     "output_type": "stream",
     "text": [
      "example.html\n"
     ]
    },
    {
     "data": {
      "text/html": [
       "\n",
       "        <iframe\n",
       "            width=\"100%\"\n",
       "            height=\"600px\"\n",
       "            src=\"example.html\"\n",
       "            frameborder=\"0\"\n",
       "            allowfullscreen\n",
       "            \n",
       "        ></iframe>\n",
       "        "
      ],
      "text/plain": [
       "<IPython.lib.display.IFrame at 0x7f9547ba0040>"
      ]
     },
     "execution_count": 252,
     "metadata": {},
     "output_type": "execute_result"
    }
   ],
   "source": [
    "## create graph\n",
    "from pyvis.network import Network\n",
    "\n",
    "g = index.get_networkx_graph(limit=200)\n",
    "net = Network(notebook=True, cdn_resources=\"in_line\", directed=True)\n",
    "display(Markdown(f\"### In-memory Knowledge Graph\"))\n",
    "net.from_nx(g)\n",
    "net.show(\"example.html\")\n"
   ]
  },
  {
   "cell_type": "markdown",
   "id": "c11264e2-66a5-4048-9b6e-130a441dfc1e",
   "metadata": {},
   "source": [
    "The knowledge graph created can be very informative and, for some, may be good enough out of the box.\n",
    "\n",
    "However, the cost, complexity, and accuracy considerations still exist when going from LLM to an in-memory representation."
   ]
  },
  {
   "cell_type": "markdown",
   "id": "018a15e1-d6bd-4073-83ef-c91986784dad",
   "metadata": {},
   "source": [
    "## Cost\n",
    "A big factor in considering GraphRAG with ArangoDB is that it can use data directly from the database. This allows for bypassing the index creation process and gives you finer control on the exact costs to obtain valuable answers from data.\n",
    "\n",
    "The small dataset with only a few fields included from only one collection needs around $10 every time the embeddings are generated. \n",
    "\n",
    "### **Simple In-Memory KG Generation**\n",
    "\n",
    "Total Tokens: 16,067,541 (total LLM token count)\n",
    " - Completion token count: 3,882,547\n",
    " - Prompt token count: 12,184,994\n",
    "\n",
    "**Total Cost (USD): ~$50 + query costs** \n",
    "\n",
    "(The query cost is associated with non-cached query input processing into LLM-readable format)\n",
    "\n",
    "-------------------------------------------\n",
    "\n",
    "### **GraphRAG Direct-to-Database Query**\n",
    "\n",
    "Tokens Used: 7335\n",
    "\n",
    "Prompt Tokens: 6969\n",
    "\n",
    "Completion Tokens: 366\n",
    "\n",
    "**Total Cost (USD): 0.009922(GPT-3.5-turbo) OR 0.23103(GPT-4)** \n",
    "\n",
    "The query cost for GraphRAG is the cost of translating the query into an LLM-readable format.\n",
    "\n"
   ]
  },
  {
   "cell_type": "markdown",
   "id": "2cf43814-caf6-4e3c-95de-f945f9fa8ebd",
   "metadata": {},
   "source": [
    "# Query Comparison\n",
    "\n",
    "### How does the performance actually stack up?\n",
    "\n",
    "Callouts:\n",
    "* A simple graph store was created from a single event collection.\n",
    "* However, this collection still contains some of the needed data for the questions.\n",
    "* The in-memory representation is represented as triplets, embeddings not included due to increased complexity and cost with minimal improvement to performance."
   ]
  },
  {
   "cell_type": "code",
   "execution_count": 230,
   "id": "0e59f342-ea1d-476a-800c-4ed8ecb1991b",
   "metadata": {},
   "outputs": [
    {
     "data": {
      "text/markdown": [
       "<b>I'm sorry, but the provided context does not contain any information about Interleaf.</b>"
      ],
      "text/plain": [
       "<IPython.core.display.Markdown object>"
      ]
     },
     "metadata": {},
     "output_type": "display_data"
    },
    {
     "name": "stdout",
     "output_type": "stream",
     "text": [
      "Query Embedding Tokens:  0 \n",
      " Query LLM Prompt Tokens:  121 \n",
      " Query LLM Completion Tokens:  17 \n",
      " Query Total LLM Token Count:  138 \n",
      " Query Token Cost: $ 0.0041400 \n",
      " Total Query Activity Token Cost: $ 0.0041400 \n",
      " Total Activity Token Cost: $ 50.004139\n"
     ]
    }
   ],
   "source": [
    "# Just making sure it is finding information that shouldn't be there\n",
    "# There should be no information available about Interleaf\n",
    "\n",
    "response = query_engine.query(\n",
    "    \"Tell me more about Interleaf\"\n",
    ")\n",
    "\n",
    "print_response_with_costs(response)"
   ]
  },
  {
   "cell_type": "code",
   "execution_count": 231,
   "id": "ce077f7a-371c-4390-a24b-f7df2c8b5a1d",
   "metadata": {},
   "outputs": [
    {
     "data": {
      "text/markdown": [
       "<b>I'm sorry, but there's no information available about Unita in the provided context.</b>"
      ],
      "text/plain": [
       "<IPython.core.display.Markdown object>"
      ]
     },
     "metadata": {},
     "output_type": "display_data"
    },
    {
     "name": "stdout",
     "output_type": "stream",
     "text": [
      "Query Embedding Tokens:  0 \n",
      " Query LLM Prompt Tokens:  120 \n",
      " Query LLM Completion Tokens:  18 \n",
      " Query Total LLM Token Count:  138 \n",
      " Query Token Cost: $ 0.0041400 \n",
      " Total Query Activity Token Cost: $ 0.0082800 \n",
      " Total Activity Token Cost: $ 50.008279\n"
     ]
    }
   ],
   "source": [
    "response = query_engine.query(\n",
    "    \"Tell me about Unita.\"\n",
    ")\n",
    "print_response_with_costs(response)"
   ]
  },
  {
   "cell_type": "code",
   "execution_count": 232,
   "id": "c5503467-5be1-4d7c-99cb-c9d1ade085d5",
   "metadata": {},
   "outputs": [
    {
     "data": {
      "text/markdown": [
       "<b>In Tizi Ouzou, there have been several events of note. This location has been the site of running battles, recent violence, and protests against the government. There have been demands for greater rights and clashes have occurred in this area. Riots have also taken place in Tizi Ouzou, with some instances of killing. The location has also been the site of commemorations, such as the 3rd anniversary of an unspecified event. Tizi Ouzou is located in Algeria, east of Algiers, and is the largest city in the Kabylie province. It's also worth noting that it's located near the capital.</b>"
      ],
      "text/plain": [
       "<IPython.core.display.Markdown object>"
      ]
     },
     "metadata": {},
     "output_type": "display_data"
    },
    {
     "name": "stdout",
     "output_type": "stream",
     "text": [
      "Query Embedding Tokens:  0 \n",
      " Query LLM Prompt Tokens:  977 \n",
      " Query LLM Completion Tokens:  130 \n",
      " Query Total LLM Token Count:  1107 \n",
      " Query Token Cost: $ 0.0332100 \n",
      " Total Query Activity Token Cost: $ 0.0414899 \n",
      " Total Activity Token Cost: $ 50.041490\n"
     ]
    }
   ],
   "source": [
    "query = \"\"\"\n",
    "Tell me about the Events happening in a random location\n",
    " \"\"\"\n",
    "response = query_engine.query(query)\n",
    "print_response_with_costs(response)"
   ]
  },
  {
   "cell_type": "code",
   "execution_count": 233,
   "id": "40ddc34b-4633-4f95-8d02-004d3d3483ee",
   "metadata": {},
   "outputs": [
    {
     "data": {
      "text/markdown": [
       "<b>The context does not provide any information about events that mention diamonds in their description.</b>"
      ],
      "text/plain": [
       "<IPython.core.display.Markdown object>"
      ]
     },
     "metadata": {},
     "output_type": "display_data"
    },
    {
     "name": "stdout",
     "output_type": "stream",
     "text": [
      "Query Embedding Tokens:  0 \n",
      " Query LLM Prompt Tokens:  127 \n",
      " Query LLM Completion Tokens:  16 \n",
      " Query Total LLM Token Count:  143 \n",
      " Query Token Cost: $ 0.0042900 \n",
      " Total Query Activity Token Cost: $ 0.0457800 \n",
      " Total Activity Token Cost: $ 50.045780\n"
     ]
    }
   ],
   "source": [
    "\n",
    "query = \"\"\"\n",
    "Have there been any events that mention diamonds in the description?\n",
    "\"\"\"\n",
    "response = query_engine.query(query)\n",
    "\n",
    "print_response_with_costs(response)"
   ]
  },
  {
   "cell_type": "code",
   "execution_count": 234,
   "id": "80d9e8ff-adb8-4105-9940-7ca6d8c62353",
   "metadata": {},
   "outputs": [
    {
     "data": {
      "text/markdown": [
       "<b>Yes, there has been violence against citizens. For instance, citizens were beheaded in Hassasna, which experienced violence against civilians. Additionally, civilians were killed in a raid.</b>"
      ],
      "text/plain": [
       "<IPython.core.display.Markdown object>"
      ]
     },
     "metadata": {},
     "output_type": "display_data"
    },
    {
     "name": "stdout",
     "output_type": "stream",
     "text": [
      "Query Embedding Tokens:  0 \n",
      " Query LLM Prompt Tokens:  1620 \n",
      " Query LLM Completion Tokens:  36 \n",
      " Query Total LLM Token Count:  1656 \n",
      " Query Token Cost: $ 0.0496800 \n",
      " Total Query Activity Token Cost: $ 0.0954600 \n",
      " Total Activity Token Cost: $ 50.095460\n"
     ]
    }
   ],
   "source": [
    "# Let's give it an easy one\n",
    "# We will compare this to the GraphRAG answer later on\n",
    "query = \"\"\"\n",
    "Has there been Violence Against Citizens?\n",
    "\"\"\"\n",
    "response = query_engine.query(query)\n",
    "\n",
    "print_response_with_costs(response)"
   ]
  },
  {
   "cell_type": "code",
   "execution_count": 235,
   "id": "b37d82b4-a328-411a-b028-fa621dac7270",
   "metadata": {},
   "outputs": [
    {
     "data": {
      "text/markdown": [
       "<b>The deadliest actor based on the number of fatalities they were involved with is the FDD rebels, who killed 113 Burundi soldiers in the event BUR1021.</b>"
      ],
      "text/plain": [
       "<IPython.core.display.Markdown object>"
      ]
     },
     "metadata": {},
     "output_type": "display_data"
    },
    {
     "name": "stdout",
     "output_type": "stream",
     "text": [
      "Query Embedding Tokens:  0 \n",
      " Query LLM Prompt Tokens:  1417 \n",
      " Query LLM Completion Tokens:  34 \n",
      " Query Total LLM Token Count:  1451 \n",
      " Query Token Cost: $ 0.0435299 \n",
      " Total Query Activity Token Cost: $ 0.1389900 \n",
      " Total Activity Token Cost: $ 50.138989\n"
     ]
    }
   ],
   "source": [
    "# A tougher one that requires data aggregation and general contextual awareness of relations \n",
    "\n",
    "query = \"\"\"\n",
    "Look at the number of fatalities per Event and determine based on associated Actor, who is the deadliest actor based on the number of fatalities they were involved with?\n",
    "\"\"\"\n",
    "\n",
    "# Note: we have parsed the data considered 'metadata' or document data but the relations aren't present and not considered contextual relevant (though they should be)\n",
    "response = query_engine.query(query)\n",
    "\n",
    "print_response_with_costs(response)"
   ]
  },
  {
   "cell_type": "markdown",
   "id": "58fd0480-5797-4f7d-b1cb-31c064e42378",
   "metadata": {},
   "source": [
    "# GraphRAG\n",
    "\n",
    "Since you do not need to precompute embeddings and maintain a vector index, GraphRAG avoids a lot of comlexity costs associated with using standard non-database RAG approaches.\n",
    "\n",
    "You get contextually aware answers with a model is able to take full advantage of the relations already in the graph. "
   ]
  },
  {
   "cell_type": "code",
   "execution_count": 236,
   "id": "efdf6d1d-5026-4c42-bf4c-0a3321fbc717",
   "metadata": {
    "collapsed": true,
    "jupyter": {
     "outputs_hidden": true
    },
    "scrolled": true
   },
   "outputs": [
    {
     "name": "stdout",
     "output_type": "stream",
     "text": [
      "Using Database 'open_intelligence' now.\n",
      "{\n",
      "    \"Graph Schema\": [\n",
      "        {\n",
      "            \"graph_name\": \"OPEN_INTELLIGENCE\",\n",
      "            \"edge_definitions\": [\n",
      "                {\n",
      "                    \"edge_collection\": \"eventActor\",\n",
      "                    \"from_vertex_collections\": [\n",
      "                        \"Event\"\n",
      "                    ],\n",
      "                    \"to_vertex_collections\": [\n",
      "                        \"Actor\"\n",
      "                    ]\n",
      "                },\n",
      "                {\n",
      "                    \"edge_collection\": \"hasLocation\",\n",
      "                    \"from_vertex_collections\": [\n",
      "                        \"Event\"\n",
      "                    ],\n",
      "                    \"to_vertex_collections\": [\n",
      "                        \"Location\"\n",
      "                    ]\n",
      "                },\n",
      "                {\n",
      "                    \"edge_collection\": \"hasSource\",\n",
      "                    \"from_vertex_collections\": [\n",
      "                        \"Event\"\n",
      "                    ],\n",
      "                    \"to_vertex_collections\": [\n",
      "                        \"Source\"\n",
      "                    ]\n",
      "                },\n",
      "                {\n",
      "                    \"edge_collection\": \"inCountry\",\n",
      "                    \"from_vertex_collections\": [\n",
      "                        \"Location\"\n",
      "                    ],\n",
      "                    \"to_vertex_collections\": [\n",
      "                        \"Country\"\n",
      "                    ]\n",
      "                },\n",
      "                {\n",
      "                    \"edge_collection\": \"inRegion\",\n",
      "                    \"from_vertex_collections\": [\n",
      "                        \"Country\"\n",
      "                    ],\n",
      "                    \"to_vertex_collections\": [\n",
      "                        \"Region\"\n",
      "                    ]\n",
      "                },\n",
      "                {\n",
      "                    \"edge_collection\": \"subClass\",\n",
      "                    \"from_vertex_collections\": [\n",
      "                        \"Class\"\n",
      "                    ],\n",
      "                    \"to_vertex_collections\": [\n",
      "                        \"Class\"\n",
      "                    ]\n",
      "                },\n",
      "                {\n",
      "                    \"edge_collection\": \"type\",\n",
      "                    \"from_vertex_collections\": [\n",
      "                        \"Event\"\n",
      "                    ],\n",
      "                    \"to_vertex_collections\": [\n",
      "                        \"Class\"\n",
      "                    ]\n",
      "                }\n",
      "            ]\n",
      "        }\n",
      "    ],\n",
      "    \"Collection Schema\": [\n",
      "        {\n",
      "            \"collection_name\": \"type\",\n",
      "            \"collection_type\": \"edge\",\n",
      "            \"edge_properties\": [\n",
      "                {\n",
      "                    \"name\": \"_key\",\n",
      "                    \"type\": \"str\"\n",
      "                },\n",
      "                {\n",
      "                    \"name\": \"_id\",\n",
      "                    \"type\": \"str\"\n",
      "                },\n",
      "                {\n",
      "                    \"name\": \"_from\",\n",
      "                    \"type\": \"str\"\n",
      "                },\n",
      "                {\n",
      "                    \"name\": \"_to\",\n",
      "                    \"type\": \"str\"\n",
      "                },\n",
      "                {\n",
      "                    \"name\": \"_rev\",\n",
      "                    \"type\": \"str\"\n",
      "                },\n",
      "                {\n",
      "                    \"name\": \"name\",\n",
      "                    \"type\": \"str\"\n",
      "                }\n",
      "            ],\n",
      "            \"example_edge\": {\n",
      "                \"_key\": \"143072967\",\n",
      "                \"_id\": \"type/143072967\",\n",
      "                \"_from\": \"Event/ALG1\",\n",
      "                \"_to\": \"Class/Violence_against_civilians\",\n",
      "                \"_rev\": \"_hqg_6J2---\",\n",
      "                \"name\": \"Violence against civilians\"\n",
      "            }\n",
      "        },\n",
      "        {\n",
      "            \"collection_name\": \"Region\",\n",
      "            \"collection_type\": \"document\",\n",
      "            \"document_properties\": [\n",
      "                {\n",
      "                    \"name\": \"_key\",\n",
      "                    \"type\": \"str\"\n",
      "                },\n",
      "                {\n",
      "                    \"name\": \"_id\",\n",
      "                    \"type\": \"str\"\n",
      "                },\n",
      "                {\n",
      "                    \"name\": \"_rev\",\n",
      "                    \"type\": \"str\"\n",
      "                },\n",
      "                {\n",
      "                    \"name\": \"name\",\n",
      "                    \"type\": \"str\"\n",
      "                }\n",
      "            ],\n",
      "            \"example_document\": {\n",
      "                \"_key\": \"Northern_Africa\",\n",
      "                \"_id\": \"Region/Northern_Africa\",\n",
      "                \"_rev\": \"_hqg_p3S---\",\n",
      "                \"name\": \"Northern Africa\"\n",
      "            }\n",
      "        },\n",
      "        {\n",
      "            \"collection_name\": \"inRegion\",\n",
      "            \"collection_type\": \"edge\",\n",
      "            \"edge_properties\": [\n",
      "                {\n",
      "                    \"name\": \"_key\",\n",
      "                    \"type\": \"str\"\n",
      "                },\n",
      "                {\n",
      "                    \"name\": \"_id\",\n",
      "                    \"type\": \"str\"\n",
      "                },\n",
      "                {\n",
      "                    \"name\": \"_from\",\n",
      "                    \"type\": \"str\"\n",
      "                },\n",
      "                {\n",
      "                    \"name\": \"_to\",\n",
      "                    \"type\": \"str\"\n",
      "                },\n",
      "                {\n",
      "                    \"name\": \"_rev\",\n",
      "                    \"type\": \"str\"\n",
      "                }\n",
      "            ],\n",
      "            \"example_edge\": {\n",
      "                \"_key\": \"Angola-Middle_Africa\",\n",
      "                \"_id\": \"inRegion/Angola-Middle_Africa\",\n",
      "                \"_from\": \"Country/Angola\",\n",
      "                \"_to\": \"Region/Middle_Africa\",\n",
      "                \"_rev\": \"_hqg_5AS---\"\n",
      "            }\n",
      "        },\n",
      "        {\n",
      "            \"collection_name\": \"hasSource\",\n",
      "            \"collection_type\": \"edge\",\n",
      "            \"edge_properties\": [\n",
      "                {\n",
      "                    \"name\": \"_key\",\n",
      "                    \"type\": \"str\"\n",
      "                },\n",
      "                {\n",
      "                    \"name\": \"_id\",\n",
      "                    \"type\": \"str\"\n",
      "                },\n",
      "                {\n",
      "                    \"name\": \"_from\",\n",
      "                    \"type\": \"str\"\n",
      "                },\n",
      "                {\n",
      "                    \"name\": \"_to\",\n",
      "                    \"type\": \"str\"\n",
      "                },\n",
      "                {\n",
      "                    \"name\": \"_rev\",\n",
      "                    \"type\": \"str\"\n",
      "                }\n",
      "            ],\n",
      "            \"example_edge\": {\n",
      "                \"_key\": \"ALG1-b30282f2374cee867a9f7e2a62deb1b5\",\n",
      "                \"_id\": \"hasSource/ALG1-b30282f2374cee867a9f7e2a62deb1b5\",\n",
      "                \"_from\": \"Event/ALG1\",\n",
      "                \"_to\": \"Source/b30282f2374cee867a9f7e2a62deb1b5\",\n",
      "                \"_rev\": \"_hqg_1TO---\"\n",
      "            }\n",
      "        },\n",
      "        {\n",
      "            \"collection_name\": \"eventActor\",\n",
      "            \"collection_type\": \"edge\",\n",
      "            \"edge_properties\": [\n",
      "                {\n",
      "                    \"name\": \"_key\",\n",
      "                    \"type\": \"str\"\n",
      "                },\n",
      "                {\n",
      "                    \"name\": \"_id\",\n",
      "                    \"type\": \"str\"\n",
      "                },\n",
      "                {\n",
      "                    \"name\": \"_from\",\n",
      "                    \"type\": \"str\"\n",
      "                },\n",
      "                {\n",
      "                    \"name\": \"_to\",\n",
      "                    \"type\": \"str\"\n",
      "                },\n",
      "                {\n",
      "                    \"name\": \"_rev\",\n",
      "                    \"type\": \"str\"\n",
      "                }\n",
      "            ],\n",
      "            \"example_edge\": {\n",
      "                \"_key\": \"63500328\",\n",
      "                \"_id\": \"eventActor/63500328\",\n",
      "                \"_from\": \"Event/ALG1\",\n",
      "                \"_to\": \"Actor/b4226a92202dcdf01cdee130abd85928\",\n",
      "                \"_rev\": \"_hqg_rCK---\"\n",
      "            }\n",
      "        },\n",
      "        {\n",
      "            \"collection_name\": \"inCountry\",\n",
      "            \"collection_type\": \"edge\",\n",
      "            \"edge_properties\": [\n",
      "                {\n",
      "                    \"name\": \"_key\",\n",
      "                    \"type\": \"str\"\n",
      "                },\n",
      "                {\n",
      "                    \"name\": \"_id\",\n",
      "                    \"type\": \"str\"\n",
      "                },\n",
      "                {\n",
      "                    \"name\": \"_from\",\n",
      "                    \"type\": \"str\"\n",
      "                },\n",
      "                {\n",
      "                    \"name\": \"_to\",\n",
      "                    \"type\": \"str\"\n",
      "                },\n",
      "                {\n",
      "                    \"name\": \"_rev\",\n",
      "                    \"type\": \"str\"\n",
      "                }\n",
      "            ],\n",
      "            \"example_edge\": {\n",
      "                \"_key\": \"61112d48fd89b4045a476e500a51bc5c-Algeria\",\n",
      "                \"_id\": \"inCountry/61112d48fd89b4045a476e500a51bc5c-Algeria\",\n",
      "                \"_from\": \"Location/61112d48fd89b4045a476e500a51bc5c\",\n",
      "                \"_to\": \"Country/Algeria\",\n",
      "                \"_rev\": \"_hqg_4Pi---\"\n",
      "            }\n",
      "        },\n",
      "        {\n",
      "            \"collection_name\": \"Country\",\n",
      "            \"collection_type\": \"document\",\n",
      "            \"document_properties\": [\n",
      "                {\n",
      "                    \"name\": \"_key\",\n",
      "                    \"type\": \"str\"\n",
      "                },\n",
      "                {\n",
      "                    \"name\": \"_id\",\n",
      "                    \"type\": \"str\"\n",
      "                },\n",
      "                {\n",
      "                    \"name\": \"_rev\",\n",
      "                    \"type\": \"str\"\n",
      "                },\n",
      "                {\n",
      "                    \"name\": \"name\",\n",
      "                    \"type\": \"str\"\n",
      "                }\n",
      "            ],\n",
      "            \"example_document\": {\n",
      "                \"_key\": \"Algeria\",\n",
      "                \"_id\": \"Country/Algeria\",\n",
      "                \"_rev\": \"_hqg_kY2---\",\n",
      "                \"name\": \"Algeria\"\n",
      "            }\n",
      "        },\n",
      "        {\n",
      "            \"collection_name\": \"subClass\",\n",
      "            \"collection_type\": \"edge\",\n",
      "            \"edge_properties\": [\n",
      "                {\n",
      "                    \"name\": \"_key\",\n",
      "                    \"type\": \"str\"\n",
      "                },\n",
      "                {\n",
      "                    \"name\": \"_id\",\n",
      "                    \"type\": \"str\"\n",
      "                },\n",
      "                {\n",
      "                    \"name\": \"_from\",\n",
      "                    \"type\": \"str\"\n",
      "                },\n",
      "                {\n",
      "                    \"name\": \"_to\",\n",
      "                    \"type\": \"str\"\n",
      "                },\n",
      "                {\n",
      "                    \"name\": \"_rev\",\n",
      "                    \"type\": \"str\"\n",
      "                }\n",
      "            ],\n",
      "            \"example_edge\": {\n",
      "                \"_key\": \"Violence_against_civilians-Attack\",\n",
      "                \"_id\": \"subClass/Violence_against_civilians-Attack\",\n",
      "                \"_from\": \"Class/Violence_against_civilians\",\n",
      "                \"_to\": \"Class/Attack\",\n",
      "                \"_rev\": \"_hqg_5RG---\"\n",
      "            }\n",
      "        },\n",
      "        {\n",
      "            \"collection_name\": \"Actor\",\n",
      "            \"collection_type\": \"document\",\n",
      "            \"document_properties\": [\n",
      "                {\n",
      "                    \"name\": \"_key\",\n",
      "                    \"type\": \"str\"\n",
      "                },\n",
      "                {\n",
      "                    \"name\": \"_id\",\n",
      "                    \"type\": \"str\"\n",
      "                },\n",
      "                {\n",
      "                    \"name\": \"_rev\",\n",
      "                    \"type\": \"str\"\n",
      "                },\n",
      "                {\n",
      "                    \"name\": \"name\",\n",
      "                    \"type\": \"str\"\n",
      "                }\n",
      "            ],\n",
      "            \"example_document\": {\n",
      "                \"_key\": \"228e62bfcd97e3cb8a559cba8a9e7b27\",\n",
      "                \"_id\": \"Actor/228e62bfcd97e3cb8a559cba8a9e7b27\",\n",
      "                \"_rev\": \"_hqg_j3G---\",\n",
      "                \"name\": \"Zouar Communal Militia (Chad)\"\n",
      "            }\n",
      "        },\n",
      "        {\n",
      "            \"collection_name\": \"Class\",\n",
      "            \"collection_type\": \"document\",\n",
      "            \"document_properties\": [\n",
      "                {\n",
      "                    \"name\": \"_key\",\n",
      "                    \"type\": \"str\"\n",
      "                },\n",
      "                {\n",
      "                    \"name\": \"_id\",\n",
      "                    \"type\": \"str\"\n",
      "                },\n",
      "                {\n",
      "                    \"name\": \"_rev\",\n",
      "                    \"type\": \"str\"\n",
      "                },\n",
      "                {\n",
      "                    \"name\": \"name\",\n",
      "                    \"type\": \"str\"\n",
      "                }\n",
      "            ],\n",
      "            \"example_document\": {\n",
      "                \"_key\": \"Violence_against_civilians\",\n",
      "                \"_id\": \"Class/Violence_against_civilians\",\n",
      "                \"_rev\": \"_hqg_kKO---\",\n",
      "                \"name\": \"Violence against civilians\"\n",
      "            }\n",
      "        },\n",
      "        {\n",
      "            \"collection_name\": \"Source\",\n",
      "            \"collection_type\": \"document\",\n",
      "            \"document_properties\": [\n",
      "                {\n",
      "                    \"name\": \"_key\",\n",
      "                    \"type\": \"str\"\n",
      "                },\n",
      "                {\n",
      "                    \"name\": \"_id\",\n",
      "                    \"type\": \"str\"\n",
      "                },\n",
      "                {\n",
      "                    \"name\": \"_rev\",\n",
      "                    \"type\": \"str\"\n",
      "                },\n",
      "                {\n",
      "                    \"name\": \"name\",\n",
      "                    \"type\": \"str\"\n",
      "                },\n",
      "                {\n",
      "                    \"name\": \"sourceScale\",\n",
      "                    \"type\": \"str\"\n",
      "                }\n",
      "            ],\n",
      "            \"example_document\": {\n",
      "                \"_key\": \"b30282f2374cee867a9f7e2a62deb1b5\",\n",
      "                \"_id\": \"Source/b30282f2374cee867a9f7e2a62deb1b5\",\n",
      "                \"_rev\": \"_hqg_qNi---\",\n",
      "                \"name\": \"Algeria Watch\",\n",
      "                \"sourceScale\": \"Other\"\n",
      "            }\n",
      "        },\n",
      "        {\n",
      "            \"collection_name\": \"hasLocation\",\n",
      "            \"collection_type\": \"edge\",\n",
      "            \"edge_properties\": [\n",
      "                {\n",
      "                    \"name\": \"_key\",\n",
      "                    \"type\": \"str\"\n",
      "                },\n",
      "                {\n",
      "                    \"name\": \"_id\",\n",
      "                    \"type\": \"str\"\n",
      "                },\n",
      "                {\n",
      "                    \"name\": \"_from\",\n",
      "                    \"type\": \"str\"\n",
      "                },\n",
      "                {\n",
      "                    \"name\": \"_to\",\n",
      "                    \"type\": \"str\"\n",
      "                },\n",
      "                {\n",
      "                    \"name\": \"_rev\",\n",
      "                    \"type\": \"str\"\n",
      "                }\n",
      "            ],\n",
      "            \"example_edge\": {\n",
      "                \"_key\": \"ALG1-61112d48fd89b4045a476e500a51bc5c\",\n",
      "                \"_id\": \"hasLocation/ALG1-61112d48fd89b4045a476e500a51bc5c\",\n",
      "                \"_from\": \"Event/ALG1\",\n",
      "                \"_to\": \"Location/61112d48fd89b4045a476e500a51bc5c\",\n",
      "                \"_rev\": \"_hqg_xL2---\"\n",
      "            }\n",
      "        },\n",
      "        {\n",
      "            \"collection_name\": \"Event\",\n",
      "            \"collection_type\": \"document\",\n",
      "            \"document_properties\": [\n",
      "                {\n",
      "                    \"name\": \"_key\",\n",
      "                    \"type\": \"str\"\n",
      "                },\n",
      "                {\n",
      "                    \"name\": \"_id\",\n",
      "                    \"type\": \"str\"\n",
      "                },\n",
      "                {\n",
      "                    \"name\": \"_rev\",\n",
      "                    \"type\": \"str\"\n",
      "                },\n",
      "                {\n",
      "                    \"name\": \"date\",\n",
      "                    \"type\": \"str\"\n",
      "                },\n",
      "                {\n",
      "                    \"name\": \"dateStamp\",\n",
      "                    \"type\": \"int\"\n",
      "                },\n",
      "                {\n",
      "                    \"name\": \"description\",\n",
      "                    \"type\": \"str\"\n",
      "                },\n",
      "                {\n",
      "                    \"name\": \"fatalities\",\n",
      "                    \"type\": \"int\"\n",
      "                },\n",
      "                {\n",
      "                    \"name\": \"geo\",\n",
      "                    \"type\": \"dict\"\n",
      "                },\n",
      "                {\n",
      "                    \"name\": \"name\",\n",
      "                    \"type\": \"str\"\n",
      "                },\n",
      "                {\n",
      "                    \"name\": \"label\",\n",
      "                    \"type\": \"str\"\n",
      "                }\n",
      "            ],\n",
      "            \"example_document\": {\n",
      "                \"_key\": \"ALG1\",\n",
      "                \"_id\": \"Event/ALG1\",\n",
      "                \"_rev\": \"_hqg_mgm---\",\n",
      "                \"date\": \"1997-01-01T00:00:00.000Z\",\n",
      "                \"dateStamp\": 852076800000,\n",
      "                \"description\": \"5 January: Beheading of 5 citizens in Douaouda (Tipaza).\",\n",
      "                \"fatalities\": 5,\n",
      "                \"geo\": {\n",
      "                    \"type\": \"Point\",\n",
      "                    \"coordinates\": [\n",
      "                        36.672,\n",
      "                        2.789\n",
      "                    ]\n",
      "                },\n",
      "                \"name\": \"Beheading of 5 citizens in Dou\",\n",
      "                \"label\": \"Violence_against_civilians\"\n",
      "            }\n",
      "        },\n",
      "        {\n",
      "            \"collection_name\": \"Location\",\n",
      "            \"collection_type\": \"document\",\n",
      "            \"document_properties\": [\n",
      "                {\n",
      "                    \"name\": \"_key\",\n",
      "                    \"type\": \"str\"\n",
      "                },\n",
      "                {\n",
      "                    \"name\": \"_id\",\n",
      "                    \"type\": \"str\"\n",
      "                },\n",
      "                {\n",
      "                    \"name\": \"_rev\",\n",
      "                    \"type\": \"str\"\n",
      "                },\n",
      "                {\n",
      "                    \"name\": \"name\",\n",
      "                    \"type\": \"str\"\n",
      "                }\n",
      "            ],\n",
      "            \"example_document\": {\n",
      "                \"_key\": \"61112d48fd89b4045a476e500a51bc5c\",\n",
      "                \"_id\": \"Location/61112d48fd89b4045a476e500a51bc5c\",\n",
      "                \"_rev\": \"_hqg_pUS---\",\n",
      "                \"name\": \"Douaouda\"\n",
      "            }\n",
      "        }\n",
      "    ]\n",
      "}\n"
     ]
    }
   ],
   "source": [
    "# 1: Instantiate the ArangoDB-LangChain Graph wrapper\n",
    "\n",
    "from langchain.graphs import ArangoGraph\n",
    "\n",
    "%useDatabase open_intelligence\n",
    "\n",
    "graph = ArangoGraph(_db)\n",
    "\n",
    "chain = ArangoGraphQAChain.from_llm(\n",
    "        ChatOpenAI(temperature=0),\n",
    "        graph=ArangoGraph(_db),\n",
    "        verbose=True\n",
    "    )\n",
    "\n",
    "pprint(graph.schema)"
   ]
  },
  {
   "cell_type": "code",
   "execution_count": 237,
   "id": "48afcfa2-a4f2-448f-8cf6-adcb9b9178f6",
   "metadata": {},
   "outputs": [],
   "source": [
    "from langchain.chat_models import ChatOpenAI\n",
    "\n",
    "model = ChatOpenAI(temperature=0, model_name='gpt-4')\n",
    "\n",
    "# 3: Instantiate the LangChain Question-Answering Chain with\n",
    "# our **model** and **graph**\n",
    "\n",
    "from langchain.chains import ArangoGraphQAChain\n",
    "\n",
    "chain = ArangoGraphQAChain.from_llm(model, graph=graph, verbose=True)\n",
    "\n",
    "chain.top_k = 5"
   ]
  },
  {
   "cell_type": "markdown",
   "id": "146c7b9c-a4fd-4d12-86eb-a793da52faae",
   "metadata": {},
   "source": [
    "## Fine Tuning\n",
    "\n",
    "A benefit of using ArangoDB GraphRAG is that you can adjust the model to your specific data schema or to respond in a way that aligns with company guidelines. \n",
    "\n",
    "The following prompts focus on ensuring the model understands AQL and responds with only the most factual results. However, you can modify the LLM to communicate in whatever way suits your needs best."
   ]
  },
  {
   "cell_type": "code",
   "execution_count": 238,
   "id": "f8dae4be-07a1-4d62-91a8-e8c01812105a",
   "metadata": {
    "jupyter": {
     "source_hidden": true
    }
   },
   "outputs": [],
   "source": [
    "\n",
    "from langchain.prompts import PromptTemplate\n",
    "\n",
    "AQL_GENERATION_TEMPLATE = \"\"\"Task: Generate an ArangoDB Query Language (AQL) query from a User Input.\n",
    "\n",
    "You are an ArangoDB Query Language (AQL) expert responsible for translating a `User Input` into an ArangoDB Query Language (AQL) query.\n",
    "\n",
    "You are given an `ArangoDB Schema`. It is a JSON Object containing:\n",
    "1. `Graph Schema`: Lists all Graphs within the ArangoDB Database Instance, along with their Edge Relationships.\n",
    "2. `Collection Schema`: Lists all Collections within the ArangoDB Database Instance, along with their document/edge properties and a document/edge example.\n",
    "\n",
    "You may also be given a set of `AQL Query Examples` to help you create the `AQL Query`. If provided, the `AQL Query Examples` should be used as a reference, similar to how `ArangoDB Schema` should be used.\n",
    "\n",
    "Things you should do:\n",
    "- Think step by step.\n",
    "- Rely on `ArangoDB Schema` and `AQL Query Examples` (if provided) to generate the query.\n",
    "- Begin the `AQL Query` by the `WITH` AQL keyword to specify all of the ArangoDB Collections required.\n",
    "- Return the `AQL Query` wrapped in 3 backticks (```).\n",
    "- Use only the provided relationship types and properties in the `ArangoDB Schema` and any `AQL Query Examples` queries.\n",
    "- Only answer to requests related to generating an AQL Query.\n",
    "- If a request is unrelated to generating AQL Query, say that you cannot help the user.\n",
    "- Keep in mind that when doing a COLLECT you have to use KEEP in order to not lose variables that were declared before it. For example, if you try and do this 'COLLECT actorName = actor.name WITH COUNT INTO eventCount' it should instead be something more like: 'COLLECT actorName = actor.name INTO eventCount KEEP event'\n",
    "- In the graph schema the 'edge_definitions' describe the relations from one node type to another. This can also be used to understand the direction of a graph traversal.\n",
    "The 'from_vertex_collection' means that if you are starting a traversal from a node in that collection, you likely should use OUTBOUND, or if you are starting from the 'to_vertex_collection' you should use INBOUND, if you are starting from a combination then use ANY.\n",
    "The following is an example of an edge definition in the graph schema:\n",
    "   ['edge_definitions': [{{'edge_collection': 'eventActor',\n",
    "     'from_vertex_collections': ['Event'],\n",
    "     'to_vertex_collections': ['Actor']}},]\n",
    "Here is an example graph traversal starting from the Event collection the wants to traverse the graph using at least the eventActor edge:\n",
    "FOR v,e,p IN 1..2 OUTBOUND event._id eventActor\n",
    "FILTER v.name == \"Two citizens were beheaded in \"\n",
    "RETURN p\n",
    "\n",
    "However, if you wanted to start form the actor node, here is what the traversal would look like:\n",
    "FOR v,e,p IN 1..2 INBOUND actor._id eventActor\n",
    "FILTER v.name == \"GIA: Armed Islamic Group\"\n",
    "RETURN p\n",
    "\n",
    "\n",
    "Things you should not do:\n",
    "- Do not use any properties/relationships that can't be inferred from the `ArangoDB Schema` or the `AQL Query Examples`.\n",
    "- Do not include any text except the generated AQL Query.\n",
    "- Do not provide explanations or apologies in your responses.\n",
    "- Do not generate an AQL Query that removes or deletes any data.\n",
    "\n",
    "Under no circumstance should you generate an AQL Query that deletes any data whatsoever.\n",
    "\n",
    "ArangoDB Schema:\n",
    "{adb_schema}\n",
    "\n",
    "AQL Query Examples (Optional):\n",
    "{aql_examples}\n",
    "\n",
    "User Input:\n",
    "{user_input}\n",
    "\n",
    "AQL Query:\n",
    "\"\"\"\n",
    "\n",
    "AQL_GENERATION_PROMPT = PromptTemplate(\n",
    "    input_variables=[\"adb_schema\", \"aql_examples\", \"user_input\"],\n",
    "    template=AQL_GENERATION_TEMPLATE,\n",
    ")\n",
    "\n",
    "AQL_FIX_TEMPLATE = \"\"\"Task: Address the ArangoDB Query Language (AQL) error message of an ArangoDB Query Language query.\n",
    "\n",
    "You are an ArangoDB Query Language (AQL) expert responsible for correcting the provided `AQL Query` based on the provided `AQL Error`.\n",
    "\n",
    "The `AQL Error` explains why the `AQL Query` could not be executed in the database.\n",
    "The `AQL Error` may also contain the position of the error relative to the total number of lines of the `AQL Query`.\n",
    "For example, 'error X at position 2:5' denotes that the error X occurs on line 2, column 5 of the `AQL Query`.\n",
    "\n",
    "You are also given the `ArangoDB Schema`. It is a JSON Object containing:\n",
    "1. `Graph Schema`: Lists all Graphs within the ArangoDB Database Instance, along with their Edge Relationships.\n",
    "2. `Collection Schema`: Lists all Collections within the ArangoDB Database Instance, along with their document/edge properties and a document/edge example.\n",
    "\n",
    "You will output the `Corrected AQL Query` wrapped in 3 backticks (```). Do not include any text except the Corrected AQL Query.\n",
    "\n",
    "Remember to think step by step.\n",
    "\n",
    "ArangoDB Schema:\n",
    "{adb_schema}\n",
    "\n",
    "AQL Query:\n",
    "{aql_query}\n",
    "\n",
    "AQL Error:\n",
    "{aql_error}\n",
    "\n",
    "Corrected AQL Query:\n",
    "\"\"\"\n",
    "\n",
    "AQL_FIX_PROMPT = PromptTemplate(\n",
    "    input_variables=[\"adb_schema\", \"aql_query\", \"aql_error\"],\n",
    "    template=AQL_FIX_TEMPLATE,\n",
    ")\n",
    "\n",
    "AQL_QA_TEMPLATE = \"\"\"Task: Generate a natural language `Summary` from the results of an ArangoDB Query Language query.\n",
    "\n",
    "You are an ArangoDB Query Language (AQL) expert responsible for creating a well-written `Summary` from the `User Input` and associated `AQL Result`.\n",
    "\n",
    "A user has executed an ArangoDB Query Language query, which has returned the AQL Result in JSON format.\n",
    "You are responsible for creating an `Summary` based on the AQL Result.\n",
    "\n",
    "You are given the following information:\n",
    "- `ArangoDB Schema`: contains a schema representation of the user's ArangoDB Database.\n",
    "- `User Input`: the original question/request of the user, which has been translated into an AQL Query.\n",
    "- `AQL Query`: the AQL equivalent of the `User Input`, translated by another AI Model. Should you deem it to be incorrect, suggest a different AQL Query.\n",
    "- `AQL Result`: the JSON output returned by executing the `AQL Query` within the ArangoDB Database.\n",
    "\n",
    "Remember to think step by step.\n",
    "\n",
    "Your `Summary` should sound like it is a response to the `User Input`.\n",
    "Your `Summary` should not include any mention of the `AQL Query` or the `AQL Result`.\n",
    "\n",
    "ArangoDB Schema:\n",
    "{adb_schema}\n",
    "\n",
    "User Input:\n",
    "{user_input}\n",
    "\n",
    "AQL Query:\n",
    "{aql_query}\n",
    "\n",
    "AQL Result:\n",
    "{aql_result}\n",
    "\n",
    "\"\"\"\n",
    "\n",
    "AQL_QA_PROMPT = PromptTemplate(\n",
    "    input_variables=[\"adb_schema\", \"user_input\", \"aql_query\", \"aql_result\"],\n",
    "    template=AQL_QA_TEMPLATE,\n",
    ")\n",
    "\n",
    "chain = ArangoGraphQAChain.from_llm(\n",
    "    model,\n",
    "    aql_generation_prompt=AQL_GENERATION_PROMPT,\n",
    "    aql_fix_prompt=AQL_FIX_PROMPT,\n",
    "    qa_prompt=AQL_QA_PROMPT,\n",
    "    graph=graph,\n",
    "    verbose=True\n",
    ")\n",
    "\n",
    "from langchain_community.callbacks import get_openai_callback\n",
    "\n",
    "all_cost_counter = 0\n",
    "\n",
    "def print_graph_rag_with_response(query, verbose):\n",
    "    global all_cost_counter\n",
    "    chain.verbose = verbose\n",
    "    with get_openai_callback() as cb:\n",
    "        result = chain.invoke(query)\n",
    "        display(Markdown(f\"{result['result']}\"))\n",
    "        print(cb)\n",
    "        all_cost_counter = all_cost_counter + cb.total_cost\n",
    "        print(\"Total Activity Cost: $\",\n",
    "        all_cost_counter)"
   ]
  },
  {
   "cell_type": "markdown",
   "id": "bc00a694-20da-430b-b134-7f6c5fc083a7",
   "metadata": {},
   "source": [
    "## Explainability \n",
    "\n",
    "Historically, Ai has faced challenges with observability and explainability; the ability to explain why a certain result or decision was made.\n",
    "\n",
    "With ArangoDB GraphRAG you can return the AQL query that was used to provide the context information to the language model and pinpoint exactly the derived relations used for decision making.\n",
    "\n",
    "The following is an example of observing a response with the exact query, sample documents returned, and total cost associated with an LLM call."
   ]
  },
  {
   "cell_type": "code",
   "execution_count": 239,
   "id": "947c6481-e93d-40d7-ba96-22c901ced80f",
   "metadata": {},
   "outputs": [
    {
     "data": {
      "text/markdown": [
       " \n",
       "#### GraphRAG Direct-to-ArangoDB Response \n",
       "\n"
      ],
      "text/plain": [
       "<IPython.core.display.Markdown object>"
      ]
     },
     "metadata": {},
     "output_type": "display_data"
    },
    {
     "name": "stdout",
     "output_type": "stream",
     "text": [
      "\n",
      "\n",
      "\u001b[1m> Entering new ArangoGraphQAChain chain...\u001b[0m\n",
      "AQL Query (1):\u001b[32;1m\u001b[1;3m\n",
      "WITH Event\n",
      "FOR event IN Event\n",
      "FILTER CONTAINS(event.description, 'Unita')\n",
      "RETURN event\n",
      "\u001b[0m\n",
      "AQL Result:\n",
      "\u001b[32;1m\u001b[1;3m[{'_key': 'ANG6', '_id': 'Event/ANG6', '_rev': '_hqg_m0m-_S', 'date': '1997-02-05T00:00:00.000Z', 'dateStamp': 855100800000, 'description': 'Violence in Kuito continues. Unita accuses FAA of occupying these provinces - Violence in Cleansing here is said to have cost 120,000 lives, a number perhaps exaggerated, but possible given craters made by bombs. An estimated 120,000 fatalities over the entire operation.', 'fatalities': 1000, 'geo': {'type': 'Point', 'coordinates': [-12.383, 16.933]}, 'name': 'Violence in Kuito continues. U', 'label': 'Battles'}, {'_key': 'ANG7', '_id': 'Event/ANG7', '_rev': '_hqg_m0m-_T', 'date': '1997-02-05T00:00:00.000Z', 'dateStamp': 855100800000, 'description': 'Unita accuses FAA of occupying these provinces.', 'fatalities': 0, 'geo': {'type': 'Point', 'coordinates': [-14.917, 13.5]}, 'name': 'Unita accuses FAA of occupying', 'label': 'Battles'}, {'_key': 'ANG17', '_id': 'Event/ANG17', '_rev': '_hqg_m0m-_b', 'date': '1997-02-22T00:00:00.000Z', 'dateStamp': 856569600000, 'description': 'Unita accuses FAA of going on military offensive here', 'fatalities': 0, 'geo': {'type': 'Point', 'coordinates': [-13.433, 14.867]}, 'name': 'Unita accuses FAA of going on ', 'label': 'Battles'}, {'_key': 'ANG18', '_id': 'Event/ANG18', '_rev': '_hqg_m0m-_c', 'date': '1997-02-22T00:00:00.000Z', 'dateStamp': 856569600000, 'description': 'Unita accuses FAA of going on military offensive here (Best estimate for Yambala)', 'fatalities': 0, 'geo': {'type': 'Point', 'coordinates': [-12.533, 14.233]}, 'name': 'Unita accuses FAA of going on ', 'label': 'Battles'}, {'_key': 'ANG24', '_id': 'Event/ANG24', '_rev': '_hqg_m0q--_', 'date': '1997-03-24T00:00:00.000Z', 'dateStamp': 859161600000, 'description': 'Unita storms mission, killing 3', 'fatalities': 3, 'geo': {'type': 'Point', 'coordinates': [-13.033, 14.25]}, 'name': 'Unita storms mission, killing ', 'label': 'Violence_against_civilians'}, {'_key': 'ANG26', '_id': 'Event/ANG26', '_rev': '_hqg_m0q--C', 'date': '1997-04-30T00:00:00.000Z', 'dateStamp': 862358400000, 'description': 'KEY EVENT: Reports from Kenge said Unita adopted a scorched earth policy and killed at least 200 people indiscriminately, including 10 local Red Cross workers, after flying in from Dr. Savimbis territory.', 'fatalities': 200, 'geo': {'type': 'Point', 'coordinates': [-12.4, 22.567]}, 'name': 'Reports from Kenge said Unita ', 'label': 'Violence_against_civilians'}, {'_key': 'ANG43', '_id': 'Event/ANG43', '_rev': '_hqg_m0q--D', 'date': '1997-05-07T00:00:00.000Z', 'dateStamp': 862963200000, 'description': 'Combat between police and Unita', 'fatalities': 0, 'geo': {'type': 'Point', 'coordinates': [-13.567, 13.95]}, 'name': 'Combat between police and Unit', 'label': 'Battles'}, {'_key': 'ANG44', '_id': 'Event/ANG44', '_rev': '_hqg_m0q--E', 'date': '1997-05-07T00:00:00.000Z', 'dateStamp': 862963200000, 'description': 'Combat between police and Unita', 'fatalities': 0, 'geo': {'type': 'Point', 'coordinates': [-13.033, 14.25]}, 'name': 'Combat between police and Unit', 'label': 'Battles'}, {'_key': 'ANG54', '_id': 'Event/ANG54', '_rev': '_hqg_m0q--H', 'date': '1997-05-30T00:00:00.000Z', 'dateStamp': 864950400000, 'description': 'FAA now controls diamond areas once held by Unita. Not sure if Canfunfo is an example of this, but it is coded anyway.', 'fatalities': 0, 'geo': {'type': 'Point', 'coordinates': [-8.6, 18]}, 'name': 'FAA now controls diamond areas', 'label': 'Battles'}, {'_key': 'ANG72', '_id': 'Event/ANG72', '_rev': '_hqg_m0q--Q', 'date': '1997-06-10T00:00:00.000Z', 'dateStamp': 865900800000, 'description': 'FAA attacks Intl Migration Organization Column, transporting 53 ex-Unita and their families.', 'fatalities': 0, 'geo': {'type': 'Point', 'coordinates': [-7.2, 12.85]}, 'name': 'FAA attacks Intl Migration Org', 'label': 'Violence_against_civilians'}]\u001b[0m\n",
      "\n",
      "\u001b[1m> Finished chain.\u001b[0m\n"
     ]
    },
    {
     "data": {
      "text/markdown": [
       "The database contains several events that mention 'Unita' in their descriptions. Here are some of them:\n",
       "\n",
       "1. An event with the key 'ANG6' occurred on February 5, 1997, in Kuito. The description mentions violence in Kuito and Unita accusing FAA of occupying these provinces. The event resulted in 1000 fatalities.\n",
       "\n",
       "2. Another event with the key 'ANG7' happened on the same day. The description states that Unita accused FAA of occupying these provinces. There were no fatalities in this event.\n",
       "\n",
       "3. On February 22, 1997, an event with the key 'ANG17' took place. The description mentions that Unita accused FAA of going on a military offensive. This event also had no fatalities.\n",
       "\n",
       "4. An event with the key 'ANG24' occurred on March 24, 1997. The description states that Unita stormed a mission, resulting in 3 fatalities.\n",
       "\n",
       "5. On April 30, 1997, an event with the key 'ANG26' took place. The description mentions reports from Kenge stating that Unita adopted a scorched earth policy and killed at least 200 people indiscriminately, including 10 local Red Cross workers.\n",
       "\n",
       "6. An event with the key 'ANG43' occurred on May 7, 1997. The description mentions combat between police and Unita. There were no fatalities in this event.\n",
       "\n",
       "7. On May 30, 1997, an event with the key 'ANG54' took place. The description states that FAA now controls diamond areas once held by Unita.\n",
       "\n",
       "8. On June 10, 1997, an event with the key 'ANG72' occurred. The description mentions that FAA attacked the International Migration Organization Column, transporting 53 ex-Unita and their families. This event also had no fatalities.\n",
       "\n",
       "Please note that these are just a few of the events that mention 'Unita' in their descriptions."
      ],
      "text/plain": [
       "<IPython.core.display.Markdown object>"
      ]
     },
     "metadata": {},
     "output_type": "display_data"
    },
    {
     "name": "stdout",
     "output_type": "stream",
     "text": [
      "Tokens Used: 7714\n",
      "\tPrompt Tokens: 7289\n",
      "\tCompletion Tokens: 425\n",
      "Successful Requests: 2\n",
      "Total Cost (USD): $0.24417\n",
      "Total Activity Cost: $ 0.24417\n"
     ]
    },
    {
     "data": {
      "text/markdown": [
       "\n",
       "#### Compare to the in-memory response: \n",
       "\n",
       "<b>I'm sorry, but there's no information provided about Unita in the context.</b>"
      ],
      "text/plain": [
       "<IPython.core.display.Markdown object>"
      ]
     },
     "metadata": {},
     "output_type": "display_data"
    }
   ],
   "source": [
    "# chain.verbose = True\n",
    "# result = []\n",
    "# with get_openai_callback() as cb:\n",
    "#     result = chain.invoke(\"Tell me about events that mention Unita in the description\")\n",
    "#     display(Markdown(f\"{result['result']}\"))\n",
    "#     print(cb)\n",
    "\n",
    "# The above is turned into the following convenience function that also counts total cost\n",
    "\n",
    "query = \"\"\"\n",
    "Tell me about events that mention Unita in the description\n",
    "\"\"\"\n",
    "\n",
    "display(Markdown(f\"\"\" \n",
    "#### GraphRAG Direct-to-ArangoDB Response \n",
    "\n",
    "\"\"\"))\n",
    "print_graph_rag_with_response(query=query, verbose=True)\n",
    "\n",
    "display(Markdown(f\"\"\"\n",
    "#### Compare to the in-memory response: \n",
    "\n",
    "<b>I'm sorry, but there's no information provided about Unita in the context.</b>\"\"\"))\n",
    "        "
   ]
  },
  {
   "cell_type": "markdown",
   "id": "c9a178af-01eb-4b25-88f5-4c2e4c61d389",
   "metadata": {},
   "source": [
    "## Confidence and Accuracy\n",
    "\n",
    "As you can see with the above example, explaining why an answer is correct becomes very difficult without the ability to show the exact documents used to create the answer.\n",
    "You can also see the logic by evaluating the AQL query returned.\n",
    "\n",
    "\n",
    "#### GraphRAG Improves Access to Existing Knowledge (sometimes unseen by RAG)\n",
    "\n",
    "The following is another query that highlights the advanced capabilities of combining the power of RAG and LLMs with existing Knowledge Graphs. "
   ]
  },
  {
   "cell_type": "code",
   "execution_count": 253,
   "id": "218ffc1a-57ff-4c2c-8d96-84d8b9aab16c",
   "metadata": {},
   "outputs": [
    {
     "data": {
      "text/markdown": [
       " \n",
       "#### GraphRAG Direct-to-ArangoDB Response \n",
       "\n"
      ],
      "text/plain": [
       "<IPython.core.display.Markdown object>"
      ]
     },
     "metadata": {},
     "output_type": "display_data"
    },
    {
     "name": "stdout",
     "output_type": "stream",
     "text": [
      "\n",
      "\n",
      "\u001b[1m> Entering new ArangoGraphQAChain chain...\u001b[0m\n",
      "AQL Query (1):\u001b[32;1m\u001b[1;3m\n",
      "WITH Event, hasLocation, Location\n",
      "FOR event IN Event\n",
      "    LIMIT 1\n",
      "    FOR location IN 1 OUTBOUND event._id hasLocation\n",
      "    RETURN { \"Event\": event, \"Location\": location }\n",
      "\u001b[0m\n",
      "AQL Result:\n",
      "\u001b[32;1m\u001b[1;3m[{'Event': {'_key': 'ALG1', '_id': 'Event/ALG1', '_rev': '_hqg_mgm---', 'date': '1997-01-01T00:00:00.000Z', 'dateStamp': 852076800000, 'description': '5 January: Beheading of 5 citizens in Douaouda (Tipaza).', 'fatalities': 5, 'geo': {'type': 'Point', 'coordinates': [36.672, 2.789]}, 'name': 'Beheading of 5 citizens in Dou', 'label': 'Violence_against_civilians'}, 'Location': {'_key': '61112d48fd89b4045a476e500a51bc5c', '_id': 'Location/61112d48fd89b4045a476e500a51bc5c', '_rev': '_hqg_pUS---', 'name': 'Douaouda'}}]\u001b[0m\n",
      "\n",
      "\u001b[1m> Finished chain.\u001b[0m\n"
     ]
    },
    {
     "data": {
      "text/markdown": [
       "An event took place in Douaouda on January 5, 1997. The event was a violent act against civilians, specifically the beheading of 5 citizens."
      ],
      "text/plain": [
       "<IPython.core.display.Markdown object>"
      ]
     },
     "metadata": {},
     "output_type": "display_data"
    },
    {
     "name": "stdout",
     "output_type": "stream",
     "text": [
      "Tokens Used: 6275\n",
      "\tPrompt Tokens: 6191\n",
      "\tCompletion Tokens: 84\n",
      "Successful Requests: 2\n",
      "Total Cost (USD): $0.19077\n",
      "Total Activity Cost: $ 3.1553999999999998\n"
     ]
    },
    {
     "data": {
      "text/markdown": [
       "\n",
       "\n",
       "#### Compare to the in-memory response. It looks impressive, is it true? How can you prove it?: \n",
       "\n",
       "<b>In Tizi Ouzou, there have been a series of events including running battles, recent violence, and protests against the government. \n",
       "The residents of this location have been demanding greater rights. There have been instances of clashes, riots, and even killings. \n",
       "Some of these events were held to commemorate the 3rd anniversary of certain incidents. The location has also been a site of rioting. \n",
       "Tizi Ouzou is located in Algeria, 110 km east of Algiers, and is the largest city in the Kabylie province. \n",
       "It has also been associated with incidents involving Islamic extremists.</b>\n",
       "\n"
      ],
      "text/plain": [
       "<IPython.core.display.Markdown object>"
      ]
     },
     "metadata": {},
     "output_type": "display_data"
    }
   ],
   "source": [
    "query = \"\"\"\n",
    "Tell me about the Events happening in a random location\n",
    "\"\"\"\n",
    "\n",
    "display(Markdown(f\"\"\" \n",
    "#### GraphRAG Direct-to-ArangoDB Response \n",
    "\n",
    "\"\"\"))\n",
    "print_graph_rag_with_response(query=query, verbose=True)\n",
    "display(Markdown(f\"\"\"\n",
    "\n",
    "#### Compare to the in-memory response. It looks impressive, is it true? How can you prove it?: \n",
    "\n",
    "<b>In Tizi Ouzou, there have been a series of events including running battles, recent violence, and protests against the government. \n",
    "The residents of this location have been demanding greater rights. There have been instances of clashes, riots, and even killings. \n",
    "Some of these events were held to commemorate the 3rd anniversary of certain incidents. The location has also been a site of rioting. \n",
    "Tizi Ouzou is located in Algeria, 110 km east of Algiers, and is the largest city in the Kabylie province. \n",
    "It has also been associated with incidents involving Islamic extremists.</b>\n",
    "\n",
    "\"\"\"))"
   ]
  },
  {
   "cell_type": "code",
   "execution_count": 241,
   "id": "881ab343-b88a-47c2-990b-42eefb88bd9b",
   "metadata": {},
   "outputs": [
    {
     "data": {
      "text/markdown": [
       " \n",
       "#### GraphRAG Direct-to-ArangoDB Response \n",
       "\n"
      ],
      "text/plain": [
       "<IPython.core.display.Markdown object>"
      ]
     },
     "metadata": {},
     "output_type": "display_data"
    },
    {
     "data": {
      "text/markdown": [
       "Yes, there are several events that mention diamonds in their descriptions. Here are some of them:\n",
       "\n",
       "1. An event with the key 'LBR283' took place on May 5, 2001, where there were protests over UN trade sanctions on Liberian diamonds. There were no fatalities reported.\n",
       "\n",
       "2. Another event with the key 'LBR284' occurred the next day, on May 6, 2001, with similar protests over UN trade sanctions on Liberian diamonds. This event also had no fatalities.\n",
       "\n",
       "3. On May 7, 2001, an event with the key 'LBR285' took place, again involving protests over UN trade sanctions on Liberian diamonds. No fatalities were reported.\n",
       "\n",
       "4. An event with the key 'DRC4523' occurred on August 21, 2009. The description mentions that ex-Burundian rebels began to join the ranks of FDLR rebels, being lured with diamonds, gold, and a job fighting for the last bastion of militant Hutuism in Congo. There were no fatalities reported.\n",
       "\n",
       "5. On June 6, 2017, an event with the key 'DRC11196' took place where LRA forces armed with automatic weapons raided 2 communities near Gangala, abducting 10 civilians. They then looted food, gold, and diamonds from the mine near Gangala. No fatalities were reported.\n",
       "\n",
       "6. Lastly, an event with the key 'DRC11240' occurred on June 18, 2017, where 10 LRA fighters attacked a mining camp near Gangala. They looted gold, diamonds, and money, and abducted 8 artisanal miners. No fatalities were reported."
      ],
      "text/plain": [
       "<IPython.core.display.Markdown object>"
      ]
     },
     "metadata": {},
     "output_type": "display_data"
    },
    {
     "name": "stdout",
     "output_type": "stream",
     "text": [
      "Tokens Used: 7167\n",
      "\tPrompt Tokens: 6790\n",
      "\tCompletion Tokens: 377\n",
      "Successful Requests: 2\n",
      "Total Cost (USD): $0.22632\n",
      "Total Activity Cost: $ 0.66126\n"
     ]
    },
    {
     "data": {
      "text/markdown": [
       "\n",
       "#### Compare to the in-memory response: \n",
       "\n",
       "<b>The context does not provide any information about events that mention diamonds in their description.</b>"
      ],
      "text/plain": [
       "<IPython.core.display.Markdown object>"
      ]
     },
     "metadata": {},
     "output_type": "display_data"
    }
   ],
   "source": [
    "query = \"\"\"\n",
    "Are there any events that mention diamonds in the description?\n",
    "\"\"\"\n",
    "display(Markdown(f\"\"\" \n",
    "#### GraphRAG Direct-to-ArangoDB Response \n",
    "\n",
    "\"\"\"))\n",
    "print_graph_rag_with_response(query=query, verbose=False)\n",
    "\n",
    "display(Markdown(f\"\"\"\n",
    "#### Compare to the in-memory response: \n",
    "\n",
    "<b>The context does not provide any information about events that mention diamonds in their description.</b>\"\"\"))\n",
    "      "
   ]
  },
  {
   "cell_type": "code",
   "execution_count": 243,
   "id": "19a92878-37ff-4d38-902e-c9455d60ed14",
   "metadata": {},
   "outputs": [
    {
     "data": {
      "text/markdown": [
       " \n",
       "#### GraphRAG Direct-to-ArangoDB Response \n",
       "\n"
      ],
      "text/plain": [
       "<IPython.core.display.Markdown object>"
      ]
     },
     "metadata": {},
     "output_type": "display_data"
    },
    {
     "data": {
      "text/markdown": [
       "Yes, there have been several instances of violence against citizens. Here are some examples:\n",
       "\n",
       "1. On January 1, 1997, 5 citizens were beheaded in Douaouda, Tipaza.\n",
       "2. On January 2, 1997, two citizens were beheaded in Hassasna.\n",
       "3. On January 3, 1997, two citizens were killed in a raid on the village of Hassi El Abd.\n",
       "4. On January 4, 1997, 16 citizens were murdered in the village of Benachour, Blida.\n",
       "5. On January 5, 1997, 18 citizens, including 3 children and 6 women, were killed in the Oliviers district of Douaouda, Tipaza.\n",
       "6. On January 6, 1997, 23 citizens were horribly mutilated and killed in Hadjout, Tipaza.\n",
       "7. On January 7, 1997, the president of the chamber of bailiffs of the Jijel court was killed.\n",
       "8. On January 10, 1997, a chauffeur from the governmental newspaper El Moudjahid was killed in Bachdjarah, Algiers.\n",
       "9. On January 11, 1997, 5 citizens were killed in Ouled Chebel.\n",
       "10. On January 12, 1997, 14 citizens were murdered in Tabannant, Bouinan, Blida.\n",
       "\n",
       "These are just a few examples, and there may be more instances of violence against citizens."
      ],
      "text/plain": [
       "<IPython.core.display.Markdown object>"
      ]
     },
     "metadata": {},
     "output_type": "display_data"
    },
    {
     "name": "stdout",
     "output_type": "stream",
     "text": [
      "Tokens Used: 7768\n",
      "\tPrompt Tokens: 7411\n",
      "\tCompletion Tokens: 357\n",
      "Successful Requests: 2\n",
      "Total Cost (USD): $0.24374999999999997\n",
      "Total Activity Cost: $ 1.1113799999999998\n"
     ]
    },
    {
     "data": {
      "text/markdown": [
       "\n",
       "#### Compare to the in-memory response: \n",
       "\n",
       "<b>Yes, there has been violence against citizens. For instance, citizens were beheaded in Hassasna, and there were instances of civilians being killed in a raid.</b>"
      ],
      "text/plain": [
       "<IPython.core.display.Markdown object>"
      ]
     },
     "metadata": {},
     "output_type": "display_data"
    }
   ],
   "source": [
    "query = \"\"\"\n",
    "Has there been Violence Against Citizens?\n",
    "\"\"\"\n",
    "\n",
    "display(Markdown(f\"\"\" \n",
    "#### GraphRAG Direct-to-ArangoDB Response \n",
    "\n",
    "\"\"\"))\n",
    "print_graph_rag_with_response(query=query, verbose=False)\n",
    "\n",
    "display(Markdown(f\"\"\"\n",
    "#### Compare to the in-memory response: \n",
    "\n",
    "<b>Yes, there has been violence against citizens. For instance, citizens were beheaded in Hassasna, and there were instances of civilians being killed in a raid.</b>\"\"\"))"
   ]
  },
  {
   "cell_type": "markdown",
   "id": "05734483-ae6c-4b17-8580-48f78786867e",
   "metadata": {},
   "source": [
    "## Ask for More\n",
    "\n",
    "With the new access to a robust knowledge graph backed by advanced query capabilites you can ask for me than you ever could before!"
   ]
  },
  {
   "cell_type": "code",
   "execution_count": 244,
   "id": "81052b5d-8196-4887-b284-8793561a7e07",
   "metadata": {},
   "outputs": [
    {
     "data": {
      "text/markdown": [
       " \n",
       "#### GraphRAG Direct-to-ArangoDB Response \n",
       "\n"
      ],
      "text/plain": [
       "<IPython.core.display.Markdown object>"
      ]
     },
     "metadata": {},
     "output_type": "display_data"
    },
    {
     "name": "stdout",
     "output_type": "stream",
     "text": [
      "\n",
      "\n",
      "\u001b[1m> Entering new ArangoGraphQAChain chain...\u001b[0m\n",
      "AQL Query (1):\u001b[32;1m\u001b[1;3m\n",
      "WITH Event, hasLocation, Location, inCountry, Country\n",
      "FOR event IN Event\n",
      "    FILTER CONTAINS(event.description, 'diamond')\n",
      "    FOR v, e, p IN 1..2 OUTBOUND event._id hasLocation, inCountry\n",
      "        FILTER IS_SAME_COLLECTION('Location', v) OR IS_SAME_COLLECTION('Country', v)\n",
      "        RETURN { 'Event Description': event.description, 'Location Name': v.name, 'Country': p.vertices[2].name }\n",
      "\u001b[0m\n",
      "AQL Result:\n",
      "\u001b[32;1m\u001b[1;3m[{'Event Description': 'FAA now controls diamond areas once held by Unita. Not sure if Canfunfo is an example of this, but it is coded anyway.', 'Location Name': 'Quicuhine', 'Country': None}, {'Event Description': 'FAA now controls diamond areas once held by Unita. Not sure if Canfunfo is an example of this, but it is coded anyway.', 'Location Name': 'Angola', 'Country': 'Angola'}, {'Event Description': 'DIAMONDS. Location selected because it is nearest to Luzamba diamond complex where event took place (-8.83, 17.9). FAA assault.', 'Location Name': 'Calanga', 'Country': None}, {'Event Description': 'DIAMONDS. Location selected because it is nearest to Luzamba diamond complex where event took place (-8.83, 17.9). FAA assault.', 'Location Name': 'Angola', 'Country': 'Angola'}, {'Event Description': 'FAA launches offensive into rebel held areas in the diamond producing Lunda Norte', 'Location Name': 'Dundo', 'Country': None}, {'Event Description': 'FAA launches offensive into rebel held areas in the diamond producing Lunda Norte', 'Location Name': 'Angola', 'Country': 'Angola'}, {'Event Description': 'Luanda denounces Unita killing at Canfunfo diamond area', 'Location Name': 'Quicuhine', 'Country': None}, {'Event Description': 'Luanda denounces Unita killing at Canfunfo diamond area', 'Location Name': 'Angola', 'Country': 'Angola'}, {'Event Description': 'This killing took place in the diamond mine area called Bula, 18km S of Lurema. Unita blamed for killing. Unita claims the event was a result of antagonisms between garimpeiros, nationals, and foreign groups. DN claims that the attacks were indiscrimin', 'Location Name': 'Muriquixe', 'Country': None}, {'Event Description': 'This killing took place in the diamond mine area called Bula, 18km S of Lurema. Unita blamed for killing. Unita claims the event was a result of antagonisms between garimpeiros, nationals, and foreign groups. DN claims that the attacks were indiscrimin', 'Location Name': 'Angola', 'Country': 'Angola'}]\u001b[0m\n",
      "\n",
      "\u001b[1m> Finished chain.\u001b[0m\n"
     ]
    },
    {
     "data": {
      "text/markdown": [
       "The events related to diamonds are as follows:\n",
       "\n",
       "1. An event described as \"FAA now controls diamond areas once held by Unita. Not sure if Canfunfo is an example of this, but it is coded anyway.\" took place in the location 'Quicuhine' in 'Angola'.\n",
       "\n",
       "2. An event described as \"DIAMONDS. Location selected because it is nearest to Luzamba diamond complex where event took place (-8.83, 17.9). FAA assault.\" occurred in 'Calanga', 'Angola'.\n",
       "\n",
       "3. An event described as \"FAA launches offensive into rebel held areas in the diamond producing Lunda Norte\" happened in 'Dundo', 'Angola'.\n",
       "\n",
       "4. An event described as \"Luanda denounces Unita killing at Canfunfo diamond area\" was reported in 'Quicuhine', 'Angola'.\n",
       "\n",
       "5. An event described as \"This killing took place in the diamond mine area called Bula, 18km S of Lurema. Unita blamed for killing. Unita claims the event was a result of antagonisms between garimpeiros, nationals, and foreign groups. DN claims that the attacks were indiscrimin\" took place in 'Muriquixe', 'Angola'."
      ],
      "text/plain": [
       "<IPython.core.display.Markdown object>"
      ]
     },
     "metadata": {},
     "output_type": "display_data"
    },
    {
     "name": "stdout",
     "output_type": "stream",
     "text": [
      "Tokens Used: 6930\n",
      "\tPrompt Tokens: 6570\n",
      "\tCompletion Tokens: 360\n",
      "Successful Requests: 2\n",
      "Total Cost (USD): $0.2187\n",
      "Total Activity Cost: $ 1.3300799999999997\n"
     ]
    }
   ],
   "source": [
    "query = \"\"\"\n",
    "Start a graph traversal from an Event with a description containing diamond \n",
    "and return the connected location names and countries along with the Event description. \n",
    "\"\"\" \n",
    "display(Markdown(f\"\"\" \n",
    "#### GraphRAG Direct-to-ArangoDB Response \n",
    "\n",
    "\"\"\"))\n",
    "print_graph_rag_with_response(query=query, verbose=True)"
   ]
  },
  {
   "attachments": {},
   "cell_type": "markdown",
   "id": "b31a5819-c68d-4b40-ad73-b7b0ae332d58",
   "metadata": {},
   "source": [
    "## Putting the Graph in GraphRAG\n",
    "\n",
    "Clearly direct-to-database is already out performing RAG in-memory but can we actually leverage our graphs?\n",
    "\n",
    "Spoiler: Yes!\n",
    "\n"
   ]
  },
  {
   "cell_type": "markdown",
   "id": "6b8100d6-5266-4060-a08b-2aa141faf8b4",
   "metadata": {},
   "source": [
    "## Advanced Analytics and Aggregations\n",
    "\n",
    "With a suite of cutting edge graph database functionality at the LLMs disposal it can perform complex opertaions without requires a graph expert."
   ]
  },
  {
   "cell_type": "code",
   "execution_count": 245,
   "id": "96e05486-a7db-42e0-b40f-cca7dc8af911",
   "metadata": {},
   "outputs": [
    {
     "data": {
      "text/markdown": [
       " \n",
       "#### GraphRAG Direct-to-ArangoDB Response \n",
       "\n"
      ],
      "text/plain": [
       "<IPython.core.display.Markdown object>"
      ]
     },
     "metadata": {},
     "output_type": "display_data"
    },
    {
     "name": "stdout",
     "output_type": "stream",
     "text": [
      "\n",
      "\n",
      "\u001b[1m> Entering new ArangoGraphQAChain chain...\u001b[0m\n",
      "AQL Query (1):\u001b[32;1m\u001b[1;3m\n",
      "WITH Actor, Event, eventActor\n",
      "FOR actor IN Actor\n",
      "  FOR v,e,p IN 1..1 INBOUND actor._id eventActor\n",
      "    COLLECT actorName = actor.name INTO group KEEP actor, v\n",
      "    LET totalFatalities = SUM(group[*].v.fatalities)\n",
      "    RETURN { \"actorName\": actorName, \"totalFatalities\": totalFatalities }\n",
      "\u001b[0m\n",
      "AQL Result:\n",
      "\u001b[32;1m\u001b[1;3m[{'actorName': '\"Military\" Militia', 'totalFatalities': 2}, {'actorName': '\"Taliban\" Militia', 'totalFatalities': 1}, {'actorName': '3R Militia (Sidiki)', 'totalFatalities': 12}, {'actorName': '3R: Return, Reclamation, Rehabilitation', 'totalFatalities': 57}, {'actorName': 'AAAJ: Anti-Jihadist African Alliance', 'totalFatalities': 0}, {'actorName': 'Abairege Ethnic Militia (Kenya)', 'totalFatalities': 5}, {'actorName': 'Abanyabasi Ethnic Militia (Kenya)', 'totalFatalities': 4}, {'actorName': 'Abbey Ethnic Militia (Ivory Coast)', 'totalFatalities': 12}, {'actorName': 'ABC: All Basotho Convention', 'totalFatalities': 2}, {'actorName': 'Abduwak Ethnic Militia (Kenya)', 'totalFatalities': 13}]\u001b[0m\n",
      "\n",
      "\u001b[1m> Finished chain.\u001b[0m\n"
     ]
    },
    {
     "data": {
      "text/markdown": [
       "The aggregation of fatalities across all events, grouped by the Actor connected to the event, has been completed. Here are some of the results:\n",
       "\n",
       "- The \"Military\" Militia was involved in events that resulted in a total of 2 fatalities.\n",
       "- The \"Taliban\" Militia was involved in events that resulted in a total of 1 fatality.\n",
       "- The 3R Militia (Sidiki) was involved in events that resulted in a total of 12 fatalities.\n",
       "- The 3R: Return, Reclamation, Rehabilitation was involved in events that resulted in a total of 57 fatalities.\n",
       "- The AAAJ: Anti-Jihadist African Alliance was involved in events that resulted in no fatalities.\n",
       "- The Abairege Ethnic Militia (Kenya) was involved in events that resulted in a total of 5 fatalities.\n",
       "- The Abanyabasi Ethnic Militia (Kenya) was involved in events that resulted in a total of 4 fatalities.\n",
       "- The Abbey Ethnic Militia (Ivory Coast) was involved in events that resulted in a total of 12 fatalities.\n",
       "- The ABC: All Basotho Convention was involved in events that resulted in a total of 2 fatalities.\n",
       "- The Abduwak Ethnic Militia (Kenya) was involved in events that resulted in a total of 13 fatalities.\n",
       "\n",
       "Please note that these are just a few examples and the actual data contains more actors and their associated fatalities."
      ],
      "text/plain": [
       "<IPython.core.display.Markdown object>"
      ]
     },
     "metadata": {},
     "output_type": "display_data"
    },
    {
     "name": "stdout",
     "output_type": "stream",
     "text": [
      "Tokens Used: 6646\n",
      "\tPrompt Tokens: 6268\n",
      "\tCompletion Tokens: 378\n",
      "Successful Requests: 2\n",
      "Total Cost (USD): $0.21071999999999996\n",
      "Total Activity Cost: $ 1.5407999999999997\n"
     ]
    }
   ],
   "source": [
    "\n",
    "query = \"\"\"\n",
    "Starting from an Actor, Aggregate all fatalities across all events. Group the number of fatalities with Actor connected to the event. \n",
    " \"\"\"\n",
    "\n",
    "display(Markdown(f\"\"\" \n",
    "#### GraphRAG Direct-to-ArangoDB Response \n",
    "\n",
    "\"\"\"))\n",
    "print_graph_rag_with_response(query=query, verbose=True)"
   ]
  },
  {
   "cell_type": "code",
   "execution_count": 247,
   "id": "bfa7c3df-b21f-4265-b824-1247b392c5d1",
   "metadata": {},
   "outputs": [
    {
     "data": {
      "text/markdown": [
       "The deadliest actor based on the number of fatalities they were involved with is 'UNITA: National Union for the Total Independence of Angola' with a total of 138,703 fatalities. They are followed by 'Military Forces of Angola (1975-)' with 122,411 fatalities, and 'Military Forces of Ethiopia (1995-2018)' with 89,571 fatalities. Other notable actors include 'Military Forces of Eritrea (1993-)' with 66,047 fatalities, and 'Civilians (Democratic Republic of Congo)' with 25,707 fatalities."
      ],
      "text/plain": [
       "<IPython.core.display.Markdown object>"
      ]
     },
     "metadata": {},
     "output_type": "display_data"
    },
    {
     "name": "stdout",
     "output_type": "stream",
     "text": [
      "Tokens Used: 6507\n",
      "\tPrompt Tokens: 6299\n",
      "\tCompletion Tokens: 208\n",
      "Successful Requests: 2\n",
      "Total Cost (USD): $0.20144999999999996\n",
      "Total Activity Cost: $ 2.18679\n"
     ]
    }
   ],
   "source": [
    "\n",
    "query = \"\"\"\n",
    "Look at the number of fatalities per Event and determine based on associated Actor, who is the deadliest actor based on the number of fatalities they were involved with?\n",
    "\"\"\"\n",
    "print_graph_rag_with_response(query=query, verbose=False)"
   ]
  },
  {
   "cell_type": "markdown",
   "id": "d679a8d0-2fc8-4f8e-a1c7-6a67b350cd5a",
   "metadata": {},
   "source": [
    "## Leverage Existing Technology Expertise\n",
    "\n",
    "You can directly use ArangoDB Graph Database (AQL) terms, if you know them, to push a query a specific directions.\n",
    "\n",
    "* Utilizes Existing Expertise\n",
    "* Leverage Powerful AQL Features\n",
    "* Access new ArangoDB features without needing to retrain\n",
    "* Quick and Easy Experimentation of new features"
   ]
  },
  {
   "cell_type": "code",
   "execution_count": 248,
   "id": "bd95d7b3-c7c2-4f3d-8d30-4a5a389a77f7",
   "metadata": {},
   "outputs": [
    {
     "data": {
      "text/markdown": [
       " \n",
       "#### GraphRAG Direct-to-ArangoDB Response \n",
       "\n"
      ],
      "text/plain": [
       "<IPython.core.display.Markdown object>"
      ]
     },
     "metadata": {},
     "output_type": "display_data"
    },
    {
     "data": {
      "text/markdown": [
       "Based on the data retrieved from the database, several significant events have occurred in Angola:\n",
       "\n",
       "1. On December 27, 2019, two people were injured in Kilamba Kiaxi, Luanda, after mistakenly detonating an explosive device which they had collected as scrap metal. No fatalities were reported.\n",
       "\n",
       "2. On April 20, 2019, a 27-year-old citizen was killed by lynching in Luanda for shooting and attempting to assault a street vendor.\n",
       "\n",
       "3. On March 8, 2019, in the municipality of Belas, Angolan women marched demanding an end to violence against women.\n",
       "\n",
       "4. On February 27, 2019, people from Capenda Camulemba, including a number of \"sobas\" (traditional leaders), clashed with police and soldiers at the Lulo Diamond Project site over failure to uphold an agreement. One person was killed and one was wounded.\n",
       "\n",
       "5. On January 8, 2019, Military Forces of Angola clashed with Armed Forces of Cabinda (FLEC / FLAC) near Tchiminzi ville in Massabi. 12 people were killed, including 4 civilians.\n",
       "\n",
       "6. On October 8, 2018, a fuze mortar detonated when kids were playing with it, leaving one killed and two seriously injured in the Chatala sector, Cela district.\n",
       "\n",
       "7. Around May 25, 2018, the INAD - National Demining Institute - destroyed 14,796 unexploded devices in Icau, Dande.\n",
       "\n",
       "8. On October 20, 2017, the National Demining Institute de-mined 400 explosive devices in the municipality of Dande.\n",
       "\n",
       "9. Around May 16, 2017, Angolan security forces fought Congolese Kamwina Nsapu militia who had crossed into Lunda Norte border posts from their positions in Congo's Kasai on nine occasions between March and mid-June. In one attack, Kamwina Nsapu militia attacked the Itanda border post, beheading an Angolan border official.\n",
       "\n",
       "10. On February 14, 2017, in Seva Tando-Macuco, FLEC-FAC militants attacked a military patrol."
      ],
      "text/plain": [
       "<IPython.core.display.Markdown object>"
      ]
     },
     "metadata": {},
     "output_type": "display_data"
    },
    {
     "name": "stdout",
     "output_type": "stream",
     "text": [
      "Tokens Used: 11507\n",
      "\tPrompt Tokens: 10994\n",
      "\tCompletion Tokens: 513\n",
      "Successful Requests: 2\n",
      "Total Cost (USD): $0.3606\n",
      "Total Activity Cost: $ 2.5473899999999996\n"
     ]
    }
   ],
   "source": [
    "query = \"\"\"\n",
    "Start a graph traversal from the node with _id of 'Country/Angola' with a depth of 3 and direction of ANY. \n",
    "Finally, return any paths whose final node has an '_id' value starts with 'Event'\n",
    "Summarize the events as a new reporter would.\n",
    "\"\"\"\n",
    "\n",
    "display(Markdown(f\"\"\" \n",
    "#### GraphRAG Direct-to-ArangoDB Response \n",
    "\n",
    "\"\"\"))\n",
    "print_graph_rag_with_response(query=query, verbose=False)"
   ]
  },
  {
   "cell_type": "code",
   "execution_count": 246,
   "id": "36de6852-66f7-4d59-b23a-2291c295e401",
   "metadata": {},
   "outputs": [
    {
     "data": {
      "text/markdown": [
       " \n",
       "#### GraphRAG Direct-to-ArangoDB Response \n",
       "\n"
      ],
      "text/plain": [
       "<IPython.core.display.Markdown object>"
      ]
     },
     "metadata": {},
     "output_type": "display_data"
    },
    {
     "data": {
      "text/markdown": [
       "The most dangerous actors based on the number of fatalities and events are as follows:\n",
       "\n",
       "1. The 'Zaghawa Ethnic Militia (Chad)' is the most dangerous with a total of 50 fatalities across 17 events. The events occurred in various locations including Iriba, Tine-Djagaraba, Bardai, Miski, Biere Saraf, Dar Tama, Abeche, and Am Timan.\n",
       "\n",
       "2. The 'Wardei Ethnic Militia (Kenya)' has caused 48 fatalities across 4 events. The events took place in Wachu-Oda, Hola, Kipini, and Kinakomb.\n",
       "\n",
       "3. The 'Young Peace Guard' has been involved in 17 events resulting in 42 fatalities. These events occurred in locations such as Buterere, Munege, Rumonge, Cabara, Rutwenzi, Kizuka, Mutakura, Gihanga, Gatare, Muhanda, Kibira National Park, Mudende, Buruhukiro, and Gatura.\n",
       "\n",
       "4. The 'Zaraguinas' have caused 40 fatalities across 13 events. The events took place in Isiro, Paoua, Bohong, Bossangoa, Boudingui, Moyenne Sido, Gbada 1, Yaloke, and Bambari.\n",
       "\n",
       "5. The 'Zeyle Ethnic Militia (Ethiopia)' has caused 40 fatalities in a single event that occurred in Argoba.\n",
       "\n",
       "Other dangerous actors include the 'Witch Hunters Militia (Gambia)', 'We Ethnic Militia (Ivory Coast)', 'Yacouba Ethnic Militia (Ivory Coast)', 'Zangba Communal Militia (Central African Republic)', and 'Yimbu Communal Militia (Democratic Republic of Congo)'. These actors have been involved in fewer events but have still caused significant fatalities."
      ],
      "text/plain": [
       "<IPython.core.display.Markdown object>"
      ]
     },
     "metadata": {},
     "output_type": "display_data"
    },
    {
     "name": "stdout",
     "output_type": "stream",
     "text": [
      "Tokens Used: 13869\n",
      "\tPrompt Tokens: 12920\n",
      "\tCompletion Tokens: 949\n",
      "Successful Requests: 4\n",
      "Total Cost (USD): $0.44453999999999994\n",
      "Total Activity Cost: $ 1.9853399999999997\n"
     ]
    }
   ],
   "source": [
    "\n",
    "query = \"\"\"\n",
    "Review all of the Events and determine, based on the connections to Actors, Locations, and number of fatalities\n",
    "Who are the most dangerous Actors and provide a short summary as to why they are considered dangerous. \n",
    "Return the Actor name, number of fatalities, number of Event, and a list of locations the events occurred in.\n",
    "\n",
    "IMPORTANT: Find locations via graph traversal going OUTBOUND from Event to hasLocation. Keep in mind that the edge eventActor is INBOUND to Actor. LIMIT the Events to 100 per Actor. Keep in mind that when doing a COLLECT you have to use KEEP in order to not lose variables that were declared before it.\n",
    "For example, if you try and do this 'COLLECT actorName = actor.name WITH COUNT INTO eventCount' it should instead be something more like: 'COLLECT actorName = actor.name INTO eventCount KEEP event'\n",
    "\"\"\"\n",
    "\n",
    "display(Markdown(f\"\"\" \n",
    "#### GraphRAG Direct-to-ArangoDB Response \n",
    "\n",
    "\"\"\"))\n",
    "print_graph_rag_with_response(query=query, verbose=False)"
   ]
  },
  {
   "cell_type": "markdown",
   "id": "5c0f4ff6-4791-418c-8875-90deaf466927",
   "metadata": {},
   "source": [
    "# Beyond GraphRAG with ArangoSearch\n",
    "\n",
    "The ArangoDB differeniator comes through with the ability to combine LLM, Graph, and built-in search capabilities. "
   ]
  },
  {
   "cell_type": "code",
   "execution_count": 249,
   "id": "8824bc53-e252-4ffd-a927-87e6f41dc36c",
   "metadata": {},
   "outputs": [
    {
     "name": "stdout",
     "output_type": "stream",
     "text": [
      "Using Database 'open_intelligence' now.\n"
     ]
    },
    {
     "data": {
      "text/plain": [
       "True"
      ]
     },
     "execution_count": 249,
     "metadata": {},
     "output_type": "execute_result"
    }
   ],
   "source": [
    "db = %useDatabase open_intelligence\n",
    "db.delete_view(\"ActorView\", ignore_missing=True)\n",
    "db.create_view(\n",
    "    \"ActorView\",\n",
    "    \"arangosearch\",\n",
    "    {\n",
    "        \"links\": {\n",
    "            \"Actor\": {\n",
    "                \"analyzers\": [\"text_en\"],\n",
    "                \"fields\": {\n",
    "                    \"name\": { # <------ Enable Actor search by `name`\n",
    "                        \"analyzers\": [\"text_en\"],\n",
    "                    },\n",
    "                },\n",
    "                \"includeAllFields\": True,\n",
    "                \"storeValues\": \"none\",\n",
    "                \"trackListPositions\": False,\n",
    "            },\n",
    "        }\n",
    "    },\n",
    ")\n",
    "\n",
    "True"
   ]
  },
  {
   "cell_type": "code",
   "execution_count": 250,
   "id": "5f791289-2ffd-4d72-b9af-b457654c1349",
   "metadata": {},
   "outputs": [
    {
     "data": {
      "text/markdown": [
       " \n",
       "#### GraphRAG Direct-to-ArangoDB Response \n",
       "\n"
      ],
      "text/plain": [
       "<IPython.core.display.Markdown object>"
      ]
     },
     "metadata": {},
     "output_type": "display_data"
    },
    {
     "data": {
      "text/markdown": [
       "The actors whose names contain 'United Nations' are as follows:\n",
       "\n",
       "1. UNOCI: United Nations Operation in Ivory Coast (2004-)\n",
       "2. UNMIL: United Nations Mission in Liberia (2003-)\n",
       "3. UNMEE: United Nations Mission in Ethiopia and Eritrea (2000-2008)\n",
       "4. UNMAS: United Nations Mine Action Service\n",
       "5. UNAMSIL: United Nations Mission in Sierra Leone (1999-2005)\n",
       "6. UN: United Nations\n",
       "7. MONUSCO: United Nations Organization Stabilization Mission in Democratic Republic of Congo (2010-)\n",
       "8. MONUC: United Nations Organization Mission in Democratic Republic of Congo (1999-2010)\n",
       "9. MONUA: United Nations Observer Mission in Angola\n",
       "10. MINUSCA: United Nations Multidimensional Integrated Stabilization Mission in the Central African Republic (2014-)"
      ],
      "text/plain": [
       "<IPython.core.display.Markdown object>"
      ]
     },
     "metadata": {},
     "output_type": "display_data"
    },
    {
     "name": "stdout",
     "output_type": "stream",
     "text": [
      "Tokens Used: 7031\n",
      "\tPrompt Tokens: 6814\n",
      "\tCompletion Tokens: 217\n",
      "Successful Requests: 2\n",
      "Total Cost (USD): $0.21744\n",
      "Total Activity Cost: $ 2.7648299999999995\n"
     ]
    }
   ],
   "source": [
    "query = \"\"\"\n",
    "ArangoSearch: Fetch me the actors whose name has 'United Nations' in it. Use the ActorView.\n",
    "\"\"\"\n",
    "\n",
    "display(Markdown(f\"\"\" \n",
    "#### GraphRAG Direct-to-ArangoDB Response \n",
    "\n",
    "\"\"\"))\n",
    "print_graph_rag_with_response(query=query, verbose=False)"
   ]
  },
  {
   "cell_type": "code",
   "execution_count": 251,
   "id": "09f75bb0-00ba-4c89-a122-32699d80ea8f",
   "metadata": {},
   "outputs": [
    {
     "data": {
      "text/markdown": [
       " \n",
       "#### GraphRAG Direct-to-ArangoDB Response \n",
       "\n"
      ],
      "text/plain": [
       "<IPython.core.display.Markdown object>"
      ]
     },
     "metadata": {},
     "output_type": "display_data"
    },
    {
     "data": {
      "text/markdown": [
       "The actor named 'Mayi Mayi Militia' has the highest number of associated events among all actors whose name contains the word 'militia'. This actor is associated with 978 events in total. The sum of fatalities from these events is 2711."
      ],
      "text/plain": [
       "<IPython.core.display.Markdown object>"
      ]
     },
     "metadata": {},
     "output_type": "display_data"
    },
    {
     "name": "stdout",
     "output_type": "stream",
     "text": [
      "Tokens Used: 6444\n",
      "\tPrompt Tokens: 6228\n",
      "\tCompletion Tokens: 216\n",
      "Successful Requests: 2\n",
      "Total Cost (USD): $0.19979999999999998\n",
      "Total Activity Cost: $ 2.9646299999999997\n"
     ]
    }
   ],
   "source": [
    "query = \"\"\"\n",
    "  ArangoSearch: Use the ActorView to fetch me Actors whose name has the word 'militia' in it.\n",
    "  From those actors, fetch me the Actor with the highest number of associated events.\n",
    "  With those events, return their sum of fatalities.\n",
    "  Remember to use INBOUND for eventActor!\n",
    "\"\"\"\n",
    "\n",
    "display(Markdown(f\"\"\" \n",
    "#### GraphRAG Direct-to-ArangoDB Response \n",
    "\n",
    "\"\"\"))\n",
    "print_graph_rag_with_response(query=query, verbose=False)"
   ]
  },
  {
   "cell_type": "markdown",
   "id": "0aced442-424f-4bcf-b400-12983520f4db",
   "metadata": {},
   "source": [
    "# Wrap-up\n",
    "\n",
    "### Total Activity Cost\n",
    "**RAG In-Memory**: `$50.138989`\n",
    "\n",
    "In-memory costs will continue to grow with new insertions as the new data will need parsed and inserted into the the local store. \n",
    "This could mean needing to reprocess all or parts of the KG and this is before actually running queries.\n",
    "\n",
    "**GraphRAG Direct-to-Database**: `$2.964629`\n",
    "\n",
    "The GraphRAG solution means queries are predictable but also scale based on context supplied. \n",
    "\n",
    "This context is the documents returned from a query and so this context can be optimized based on the requested output, number of results, and other optimizations such as pre-computing and storing embeddings.\n",
    "\n",
    "--------------\n",
    "\n",
    "LLM's are a powerful tool that can be used during your entire application pipeline.\n",
    "However, to acheive high performance, at scale, with highly accurate results (or results at all) you MUST leverage existing knowledge stored in a graph database.\n",
    "\n",
    "Use the Direct to Knowledge Graph approach you gain: \n",
    "* Efficiency\n",
    "* Improved Accuracy\n",
    "* Reduced Complexity\n",
    "* Explainability (AQL)\n",
    "\n",
    "* <img src=\"resources/images/rvg2.png\" style=\"width:800px; height:auto;\">"
   ]
  }
 ],
 "metadata": {
  "kernelspec": {
   "display_name": "Python 3 (ipykernel)",
   "language": "python",
   "name": "python3"
  },
  "language_info": {
   "codemirror_mode": {
    "name": "ipython",
    "version": 3
   },
   "file_extension": ".py",
   "mimetype": "text/x-python",
   "name": "python",
   "nbconvert_exporter": "python",
   "pygments_lexer": "ipython3",
   "version": "3.10.11"
  }
 },
 "nbformat": 4,
 "nbformat_minor": 5
}
